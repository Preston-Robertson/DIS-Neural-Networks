{
 "cells": [
  {
   "cell_type": "markdown",
   "id": "2a1efaca",
   "metadata": {},
   "source": [
    "# Homework 5 + 6"
   ]
  },
  {
   "cell_type": "markdown",
   "id": "5b33d457",
   "metadata": {},
   "source": [
    "## Loading Libraries"
   ]
  },
  {
   "cell_type": "code",
   "execution_count": 1,
   "id": "f21cf3fb",
   "metadata": {},
   "outputs": [],
   "source": [
    "# Importing Libraries\n",
    "\n",
    "\n",
    "# Basic Libraries #################################################################################################\n",
    "import pandas as pd\n",
    "import numpy as np\n",
    "import matplotlib.pyplot as plt\n",
    "import os \n",
    "import seaborn as sns\n",
    "import sklearn\n",
    "from sklearn import linear_model\n",
    "\n",
    "\n",
    "# For Feature Engineering #########################################################################################\n",
    "\n",
    "# For Plotting Correlation Matrix and Scatter Plot\n",
    "from mpl_toolkits.mplot3d import Axes3D\n",
    "from sklearn.preprocessing import StandardScaler\n",
    "\n",
    "# String Indexer\n",
    "from sklearn.preprocessing import LabelEncoder\n",
    "\n",
    "# PCA\n",
    "from sklearn.decomposition import PCA\n",
    "\n",
    "\n",
    "# For Machine Learning Models #####################################################################################\n",
    "\n",
    "# For Logistic Regression\n",
    "from sklearn.linear_model import LogisticRegression\n",
    "\n",
    "# For SVM\n",
    "from sklearn import svm\n",
    "from sklearn.svm import SVC\n",
    "\n",
    "# For Desicion Trees \n",
    "from sklearn.model_selection import cross_val_score\n",
    "from sklearn.tree import DecisionTreeClassifier\n",
    "\n",
    "# Random Forest\n",
    "from sklearn.ensemble import RandomForestClassifier\n",
    "\n",
    "# For Adaboost\n",
    "from sklearn.ensemble import AdaBoostClassifier\n",
    "from sklearn.model_selection import RepeatedStratifiedKFold\n",
    "from sklearn.model_selection import cross_val_score\n",
    "\n",
    "# For Naive Bayes Classifier\n",
    "from sklearn.naive_bayes import GaussianNB\n",
    "\n",
    "# For Data Anaylsis\n",
    "from sklearn.model_selection import train_test_split\n",
    "from sklearn.metrics import classification_report, confusion_matrix\n",
    "\n",
    "# For Metrics\n",
    "from sklearn.metrics import mean_squared_error, r2_score, max_error\n",
    "from numpy import mean\n",
    "from numpy import std\n",
    "\n",
    "\n",
    "# Personal Preference #############################################################################################\n",
    "import warnings\n",
    "warnings.filterwarnings('ignore')"
   ]
  },
  {
   "cell_type": "code",
   "execution_count": 2,
   "id": "e5a72fd3",
   "metadata": {},
   "outputs": [
    {
     "data": {
      "text/html": [
       "<div>\n",
       "<style scoped>\n",
       "    .dataframe tbody tr th:only-of-type {\n",
       "        vertical-align: middle;\n",
       "    }\n",
       "\n",
       "    .dataframe tbody tr th {\n",
       "        vertical-align: top;\n",
       "    }\n",
       "\n",
       "    .dataframe thead th {\n",
       "        text-align: right;\n",
       "    }\n",
       "</style>\n",
       "<table border=\"1\" class=\"dataframe\">\n",
       "  <thead>\n",
       "    <tr style=\"text-align: right;\">\n",
       "      <th></th>\n",
       "      <th>Age of patient at time of operation</th>\n",
       "      <th>Patient year of operation (year - 1900, numerical)</th>\n",
       "      <th>Nodes</th>\n",
       "      <th>Survival Status for patient died within 5 year</th>\n",
       "    </tr>\n",
       "  </thead>\n",
       "  <tbody>\n",
       "    <tr>\n",
       "      <th>0</th>\n",
       "      <td>30</td>\n",
       "      <td>62</td>\n",
       "      <td>3</td>\n",
       "      <td>1</td>\n",
       "    </tr>\n",
       "    <tr>\n",
       "      <th>1</th>\n",
       "      <td>30</td>\n",
       "      <td>65</td>\n",
       "      <td>0</td>\n",
       "      <td>1</td>\n",
       "    </tr>\n",
       "    <tr>\n",
       "      <th>2</th>\n",
       "      <td>31</td>\n",
       "      <td>59</td>\n",
       "      <td>2</td>\n",
       "      <td>1</td>\n",
       "    </tr>\n",
       "    <tr>\n",
       "      <th>3</th>\n",
       "      <td>31</td>\n",
       "      <td>65</td>\n",
       "      <td>4</td>\n",
       "      <td>1</td>\n",
       "    </tr>\n",
       "    <tr>\n",
       "      <th>4</th>\n",
       "      <td>33</td>\n",
       "      <td>58</td>\n",
       "      <td>10</td>\n",
       "      <td>1</td>\n",
       "    </tr>\n",
       "  </tbody>\n",
       "</table>\n",
       "</div>"
      ],
      "text/plain": [
       "   Age of patient at time of operation  \\\n",
       "0                                   30   \n",
       "1                                   30   \n",
       "2                                   31   \n",
       "3                                   31   \n",
       "4                                   33   \n",
       "\n",
       "   Patient year of operation (year - 1900, numerical)  Nodes  \\\n",
       "0                                                 62       3   \n",
       "1                                                 65       0   \n",
       "2                                                 59       2   \n",
       "3                                                 65       4   \n",
       "4                                                 58      10   \n",
       "\n",
       "   Survival Status for patient died within 5 year  \n",
       "0                                               1  \n",
       "1                                               1  \n",
       "2                                               1  \n",
       "3                                               1  \n",
       "4                                               1  "
      ]
     },
     "execution_count": 2,
     "metadata": {},
     "output_type": "execute_result"
    }
   ],
   "source": [
    "# Uploading Data as Pandas Dataframe\n",
    "\n",
    "\n",
    "dataset_file = 'Haberman-1.csv'\n",
    "\n",
    "target_variable_name = 'Survival Status for patient died within 5 year'\n",
    "\n",
    "df_pd = pd.read_csv(dataset_file)\n",
    "df_pd.head(5)"
   ]
  },
  {
   "cell_type": "markdown",
   "id": "a8044088",
   "metadata": {},
   "source": [
    "## Question 1: Check if there is any missing value in the dataset. Perform some basi exploratory data analysis"
   ]
  },
  {
   "cell_type": "code",
   "execution_count": 3,
   "id": "51b207d5",
   "metadata": {},
   "outputs": [
    {
     "data": {
      "text/plain": [
       "(305, 4)"
      ]
     },
     "execution_count": 3,
     "metadata": {},
     "output_type": "execute_result"
    }
   ],
   "source": [
    "# Size of Dataset\n",
    "\n",
    "\n",
    "df_pd.shape"
   ]
  },
  {
   "cell_type": "code",
   "execution_count": 4,
   "id": "faeb403e",
   "metadata": {},
   "outputs": [
    {
     "data": {
      "text/html": [
       "<div>\n",
       "<style scoped>\n",
       "    .dataframe tbody tr th:only-of-type {\n",
       "        vertical-align: middle;\n",
       "    }\n",
       "\n",
       "    .dataframe tbody tr th {\n",
       "        vertical-align: top;\n",
       "    }\n",
       "\n",
       "    .dataframe thead th {\n",
       "        text-align: right;\n",
       "    }\n",
       "</style>\n",
       "<table border=\"1\" class=\"dataframe\">\n",
       "  <thead>\n",
       "    <tr style=\"text-align: right;\">\n",
       "      <th></th>\n",
       "      <th>Data Types</th>\n",
       "    </tr>\n",
       "  </thead>\n",
       "  <tbody>\n",
       "    <tr>\n",
       "      <th>Age of patient at time of operation</th>\n",
       "      <td>int64</td>\n",
       "    </tr>\n",
       "    <tr>\n",
       "      <th>Patient year of operation (year - 1900, numerical)</th>\n",
       "      <td>int64</td>\n",
       "    </tr>\n",
       "    <tr>\n",
       "      <th>Nodes</th>\n",
       "      <td>int64</td>\n",
       "    </tr>\n",
       "    <tr>\n",
       "      <th>Survival Status for patient died within 5 year</th>\n",
       "      <td>int64</td>\n",
       "    </tr>\n",
       "  </tbody>\n",
       "</table>\n",
       "</div>"
      ],
      "text/plain": [
       "                                                   Data Types\n",
       "Age of patient at time of operation                     int64\n",
       "Patient year of operation (year - 1900, numerical)      int64\n",
       "Nodes                                                   int64\n",
       "Survival Status for patient died within 5 year          int64"
      ]
     },
     "execution_count": 4,
     "metadata": {},
     "output_type": "execute_result"
    }
   ],
   "source": [
    "# Data Types\n",
    "\n",
    "\n",
    "pd.DataFrame(df_pd.dtypes, columns = ['Data Types'])"
   ]
  },
  {
   "cell_type": "code",
   "execution_count": 5,
   "id": "eb5ddabf",
   "metadata": {},
   "outputs": [
    {
     "data": {
      "text/html": [
       "<div>\n",
       "<style scoped>\n",
       "    .dataframe tbody tr th:only-of-type {\n",
       "        vertical-align: middle;\n",
       "    }\n",
       "\n",
       "    .dataframe tbody tr th {\n",
       "        vertical-align: top;\n",
       "    }\n",
       "\n",
       "    .dataframe thead th {\n",
       "        text-align: right;\n",
       "    }\n",
       "</style>\n",
       "<table border=\"1\" class=\"dataframe\">\n",
       "  <thead>\n",
       "    <tr style=\"text-align: right;\">\n",
       "      <th></th>\n",
       "      <th>Age of patient at time of operation</th>\n",
       "      <th>Patient year of operation (year - 1900, numerical)</th>\n",
       "      <th>Nodes</th>\n",
       "      <th>Survival Status for patient died within 5 year</th>\n",
       "    </tr>\n",
       "  </thead>\n",
       "  <tbody>\n",
       "    <tr>\n",
       "      <th>count</th>\n",
       "      <td>305.000000</td>\n",
       "      <td>305.000000</td>\n",
       "      <td>305.000000</td>\n",
       "      <td>305.000000</td>\n",
       "    </tr>\n",
       "    <tr>\n",
       "      <th>mean</th>\n",
       "      <td>52.531148</td>\n",
       "      <td>62.849180</td>\n",
       "      <td>4.036066</td>\n",
       "      <td>1.265574</td>\n",
       "    </tr>\n",
       "    <tr>\n",
       "      <th>std</th>\n",
       "      <td>10.744024</td>\n",
       "      <td>3.254078</td>\n",
       "      <td>7.199370</td>\n",
       "      <td>0.442364</td>\n",
       "    </tr>\n",
       "    <tr>\n",
       "      <th>min</th>\n",
       "      <td>30.000000</td>\n",
       "      <td>58.000000</td>\n",
       "      <td>0.000000</td>\n",
       "      <td>1.000000</td>\n",
       "    </tr>\n",
       "    <tr>\n",
       "      <th>25%</th>\n",
       "      <td>44.000000</td>\n",
       "      <td>60.000000</td>\n",
       "      <td>0.000000</td>\n",
       "      <td>1.000000</td>\n",
       "    </tr>\n",
       "    <tr>\n",
       "      <th>50%</th>\n",
       "      <td>52.000000</td>\n",
       "      <td>63.000000</td>\n",
       "      <td>1.000000</td>\n",
       "      <td>1.000000</td>\n",
       "    </tr>\n",
       "    <tr>\n",
       "      <th>75%</th>\n",
       "      <td>61.000000</td>\n",
       "      <td>66.000000</td>\n",
       "      <td>4.000000</td>\n",
       "      <td>2.000000</td>\n",
       "    </tr>\n",
       "    <tr>\n",
       "      <th>max</th>\n",
       "      <td>83.000000</td>\n",
       "      <td>69.000000</td>\n",
       "      <td>52.000000</td>\n",
       "      <td>2.000000</td>\n",
       "    </tr>\n",
       "  </tbody>\n",
       "</table>\n",
       "</div>"
      ],
      "text/plain": [
       "       Age of patient at time of operation  \\\n",
       "count                           305.000000   \n",
       "mean                             52.531148   \n",
       "std                              10.744024   \n",
       "min                              30.000000   \n",
       "25%                              44.000000   \n",
       "50%                              52.000000   \n",
       "75%                              61.000000   \n",
       "max                              83.000000   \n",
       "\n",
       "       Patient year of operation (year - 1900, numerical)       Nodes  \\\n",
       "count                                         305.000000   305.000000   \n",
       "mean                                           62.849180     4.036066   \n",
       "std                                             3.254078     7.199370   \n",
       "min                                            58.000000     0.000000   \n",
       "25%                                            60.000000     0.000000   \n",
       "50%                                            63.000000     1.000000   \n",
       "75%                                            66.000000     4.000000   \n",
       "max                                            69.000000    52.000000   \n",
       "\n",
       "       Survival Status for patient died within 5 year  \n",
       "count                                      305.000000  \n",
       "mean                                         1.265574  \n",
       "std                                          0.442364  \n",
       "min                                          1.000000  \n",
       "25%                                          1.000000  \n",
       "50%                                          1.000000  \n",
       "75%                                          2.000000  \n",
       "max                                          2.000000  "
      ]
     },
     "execution_count": 5,
     "metadata": {},
     "output_type": "execute_result"
    }
   ],
   "source": [
    "# Basic Data Analyis\n",
    "\n",
    "\n",
    "df_pd.describe()"
   ]
  },
  {
   "cell_type": "code",
   "execution_count": 6,
   "id": "7764b701",
   "metadata": {},
   "outputs": [
    {
     "data": {
      "image/png": "[encoded data removed]",
      "text/plain": [
       "<Figure size 640x640 with 2 Axes>"
      ]
     },
     "metadata": {},
     "output_type": "display_data"
    }
   ],
   "source": [
    "# Correlation Matrix\n",
    "\n",
    "\n",
    "df_corrM = df_pd\n",
    "\n",
    "def plotCorrelationMatrix(df_corrM, graphWidth):\n",
    "    filename = 'Advertising'\n",
    "    df = df_corrM.dropna('columns')\n",
    "    df = df[[col for col in df if df[col].nunique() > 1]] \n",
    "    if df.shape[1] < 2:\n",
    "        print(f'No correlation plots shown: The number of non-NaN or constant columns ({df.shape[1]}) is less than 2')\n",
    "        return\n",
    "    corr = df.corr()\n",
    "    plt.figure(num=None, figsize=(graphWidth, graphWidth), dpi=80, facecolor='w', edgecolor='k')\n",
    "    corrMat = plt.matshow(corr, fignum = 1)\n",
    "    plt.xticks(range(len(corr.columns)), corr.columns, rotation=90)\n",
    "    plt.yticks(range(len(corr.columns)), corr.columns)\n",
    "    plt.gca().xaxis.tick_bottom()\n",
    "    plt.colorbar(corrMat)\n",
    "    plt.title(f'Correlation Matrix for {filename}', fontsize=15)\n",
    "    plt.show()\n",
    "\n",
    "\n",
    "plotCorrelationMatrix(df_corrM, 8)"
   ]
  },
  {
   "cell_type": "code",
   "execution_count": 7,
   "id": "459e870c",
   "metadata": {},
   "outputs": [
    {
     "data": {
      "text/plain": [
       "<seaborn.axisgrid.PairGrid at 0x1ee8e1c8e50>"
      ]
     },
     "execution_count": 7,
     "metadata": {},
     "output_type": "execute_result"
    },
    {
     "data": {
      "text/plain": [
       "<Figure size 2160x720 with 0 Axes>"
      ]
     },
     "metadata": {},
     "output_type": "display_data"
    },
    {
     "data": {
      "image/png": "[encoded data removed]",
      "text/plain": [
       "<Figure size 772.125x540 with 12 Axes>"
      ]
     },
     "metadata": {
      "needs_background": "light"
     },
     "output_type": "display_data"
    }
   ],
   "source": [
    "# Scatter Plot\n",
    "\n",
    "\n",
    "plt.figure(figsize=(30,10))\n",
    "sns.pairplot(data=df_pd, hue=target_variable_name, palette='Set2')"
   ]
  },
  {
   "cell_type": "code",
   "execution_count": 8,
   "id": "5ff8dbd7",
   "metadata": {},
   "outputs": [
    {
     "data": {
      "text/html": [
       "<div>\n",
       "<style scoped>\n",
       "    .dataframe tbody tr th:only-of-type {\n",
       "        vertical-align: middle;\n",
       "    }\n",
       "\n",
       "    .dataframe tbody tr th {\n",
       "        vertical-align: top;\n",
       "    }\n",
       "\n",
       "    .dataframe thead th {\n",
       "        text-align: right;\n",
       "    }\n",
       "</style>\n",
       "<table border=\"1\" class=\"dataframe\">\n",
       "  <thead>\n",
       "    <tr style=\"text-align: right;\">\n",
       "      <th></th>\n",
       "      <th>Cardinality</th>\n",
       "    </tr>\n",
       "  </thead>\n",
       "  <tbody>\n",
       "    <tr>\n",
       "      <th>Age of patient at time of operation</th>\n",
       "      <td>49</td>\n",
       "    </tr>\n",
       "    <tr>\n",
       "      <th>Patient year of operation (year - 1900, numerical)</th>\n",
       "      <td>12</td>\n",
       "    </tr>\n",
       "    <tr>\n",
       "      <th>Nodes</th>\n",
       "      <td>31</td>\n",
       "    </tr>\n",
       "    <tr>\n",
       "      <th>Survival Status for patient died within 5 year</th>\n",
       "      <td>2</td>\n",
       "    </tr>\n",
       "  </tbody>\n",
       "</table>\n",
       "</div>"
      ],
      "text/plain": [
       "                                                    Cardinality\n",
       "Age of patient at time of operation                          49\n",
       "Patient year of operation (year - 1900, numerical)           12\n",
       "Nodes                                                        31\n",
       "Survival Status for patient died within 5 year                2"
      ]
     },
     "execution_count": 8,
     "metadata": {},
     "output_type": "execute_result"
    }
   ],
   "source": [
    "# Cardinality\n",
    "\n",
    "\n",
    "card = df_pd.apply(pd.Series.nunique)\n",
    "pd.DataFrame(card, columns = ['Cardinality'])"
   ]
  },
  {
   "cell_type": "code",
   "execution_count": 9,
   "id": "60c7c3f2",
   "metadata": {},
   "outputs": [
    {
     "data": {
      "text/html": [
       "<div>\n",
       "<style scoped>\n",
       "    .dataframe tbody tr th:only-of-type {\n",
       "        vertical-align: middle;\n",
       "    }\n",
       "\n",
       "    .dataframe tbody tr th {\n",
       "        vertical-align: top;\n",
       "    }\n",
       "\n",
       "    .dataframe thead th {\n",
       "        text-align: right;\n",
       "    }\n",
       "</style>\n",
       "<table border=\"1\" class=\"dataframe\">\n",
       "  <thead>\n",
       "    <tr style=\"text-align: right;\">\n",
       "      <th></th>\n",
       "      <th>index</th>\n",
       "      <th>Number of Missing Values</th>\n",
       "      <th>Missing Percentage</th>\n",
       "    </tr>\n",
       "  </thead>\n",
       "  <tbody>\n",
       "    <tr>\n",
       "      <th>0</th>\n",
       "      <td>Age of patient at time of operation</td>\n",
       "      <td>0</td>\n",
       "      <td>0.0</td>\n",
       "    </tr>\n",
       "    <tr>\n",
       "      <th>1</th>\n",
       "      <td>Patient year of operation (year - 1900, numeri...</td>\n",
       "      <td>0</td>\n",
       "      <td>0.0</td>\n",
       "    </tr>\n",
       "    <tr>\n",
       "      <th>2</th>\n",
       "      <td>Nodes</td>\n",
       "      <td>0</td>\n",
       "      <td>0.0</td>\n",
       "    </tr>\n",
       "    <tr>\n",
       "      <th>3</th>\n",
       "      <td>Survival Status for patient died within 5 year</td>\n",
       "      <td>0</td>\n",
       "      <td>0.0</td>\n",
       "    </tr>\n",
       "  </tbody>\n",
       "</table>\n",
       "</div>"
      ],
      "text/plain": [
       "                                               index  \\\n",
       "0                Age of patient at time of operation   \n",
       "1  Patient year of operation (year - 1900, numeri...   \n",
       "2                                              Nodes   \n",
       "3     Survival Status for patient died within 5 year   \n",
       "\n",
       "   Number of Missing Values  Missing Percentage  \n",
       "0                         0                 0.0  \n",
       "1                         0                 0.0  \n",
       "2                         0                 0.0  \n",
       "3                         0                 0.0  "
      ]
     },
     "execution_count": 9,
     "metadata": {},
     "output_type": "execute_result"
    }
   ],
   "source": [
    "# Missing Values\n",
    "\n",
    "\n",
    "sum_missing = df_pd.isna().sum()\n",
    "pct_missing = df_pd.isna().mean()\n",
    "\n",
    "missing_values = pd.concat([sum_missing, pct_missing], axis = 1)\n",
    "missing_values = missing_values.reset_index(drop = False)\n",
    "missing_values = missing_values.rename(columns = {0: 'Number of Missing Values',\n",
    "                                                                                      1: 'Missing Percentage'})\n",
    "missing_values"
   ]
  },
  {
   "cell_type": "code",
   "execution_count": 10,
   "id": "a1cdcf5c",
   "metadata": {},
   "outputs": [
    {
     "name": "stdout",
     "output_type": "stream",
     "text": [
      "4\n"
     ]
    },
    {
     "data": {
      "text/html": [
       "<div>\n",
       "<style scoped>\n",
       "    .dataframe tbody tr th:only-of-type {\n",
       "        vertical-align: middle;\n",
       "    }\n",
       "\n",
       "    .dataframe tbody tr th {\n",
       "        vertical-align: top;\n",
       "    }\n",
       "\n",
       "    .dataframe thead th {\n",
       "        text-align: right;\n",
       "    }\n",
       "</style>\n",
       "<table border=\"1\" class=\"dataframe\">\n",
       "  <thead>\n",
       "    <tr style=\"text-align: right;\">\n",
       "      <th></th>\n",
       "      <th>0</th>\n",
       "    </tr>\n",
       "  </thead>\n",
       "  <tbody>\n",
       "    <tr>\n",
       "      <th>0</th>\n",
       "      <td>Age of patient at time of operation</td>\n",
       "    </tr>\n",
       "    <tr>\n",
       "      <th>1</th>\n",
       "      <td>Patient year of operation (year - 1900, numeri...</td>\n",
       "    </tr>\n",
       "    <tr>\n",
       "      <th>2</th>\n",
       "      <td>Nodes</td>\n",
       "    </tr>\n",
       "    <tr>\n",
       "      <th>3</th>\n",
       "      <td>Survival Status for patient died within 5 year</td>\n",
       "    </tr>\n",
       "  </tbody>\n",
       "</table>\n",
       "</div>"
      ],
      "text/plain": [
       "                                                   0\n",
       "0                Age of patient at time of operation\n",
       "1  Patient year of operation (year - 1900, numeri...\n",
       "2                                              Nodes\n",
       "3     Survival Status for patient died within 5 year"
      ]
     },
     "execution_count": 10,
     "metadata": {},
     "output_type": "execute_result"
    }
   ],
   "source": [
    "# Removing Columns containing too many Missing Values\n",
    "\n",
    "\n",
    "df_pd2 = df_pd\n",
    "\n",
    "th = .10\n",
    "# Defining threshold for cutoff percentage\n",
    "\n",
    "bad_column = []\n",
    "for i,r in missing_values.iterrows():\n",
    "        c = r['index']\n",
    "        mp = r[\"Missing Percentage\"]\n",
    "        if mp > th:\n",
    "            bad_column.append(c)\n",
    "\n",
    "for i in bad_column:\n",
    "    for j in df_pd2.columns:\n",
    "        if j == i:\n",
    "            df_pd2 = df_pd2.drop(j, axis = 1)\n",
    "            \n",
    "print(len(df_pd2.columns))\n",
    "pd.DataFrame(df_pd2.columns)"
   ]
  },
  {
   "cell_type": "code",
   "execution_count": 11,
   "id": "f251525a",
   "metadata": {},
   "outputs": [
    {
     "data": {
      "text/html": [
       "<div>\n",
       "<style scoped>\n",
       "    .dataframe tbody tr th:only-of-type {\n",
       "        vertical-align: middle;\n",
       "    }\n",
       "\n",
       "    .dataframe tbody tr th {\n",
       "        vertical-align: top;\n",
       "    }\n",
       "\n",
       "    .dataframe thead th {\n",
       "        text-align: right;\n",
       "    }\n",
       "</style>\n",
       "<table border=\"1\" class=\"dataframe\">\n",
       "  <thead>\n",
       "    <tr style=\"text-align: right;\">\n",
       "      <th></th>\n",
       "      <th>Age of patient at time of operation</th>\n",
       "      <th>Patient year of operation (year - 1900, numerical)</th>\n",
       "      <th>Nodes</th>\n",
       "      <th>Survival Status for patient died within 5 year</th>\n",
       "    </tr>\n",
       "  </thead>\n",
       "  <tbody>\n",
       "    <tr>\n",
       "      <th>0</th>\n",
       "      <td>30</td>\n",
       "      <td>62</td>\n",
       "      <td>3</td>\n",
       "      <td>1</td>\n",
       "    </tr>\n",
       "    <tr>\n",
       "      <th>1</th>\n",
       "      <td>30</td>\n",
       "      <td>65</td>\n",
       "      <td>0</td>\n",
       "      <td>1</td>\n",
       "    </tr>\n",
       "    <tr>\n",
       "      <th>2</th>\n",
       "      <td>31</td>\n",
       "      <td>59</td>\n",
       "      <td>2</td>\n",
       "      <td>1</td>\n",
       "    </tr>\n",
       "    <tr>\n",
       "      <th>3</th>\n",
       "      <td>31</td>\n",
       "      <td>65</td>\n",
       "      <td>4</td>\n",
       "      <td>1</td>\n",
       "    </tr>\n",
       "    <tr>\n",
       "      <th>4</th>\n",
       "      <td>33</td>\n",
       "      <td>58</td>\n",
       "      <td>10</td>\n",
       "      <td>1</td>\n",
       "    </tr>\n",
       "    <tr>\n",
       "      <th>...</th>\n",
       "      <td>...</td>\n",
       "      <td>...</td>\n",
       "      <td>...</td>\n",
       "      <td>...</td>\n",
       "    </tr>\n",
       "    <tr>\n",
       "      <th>300</th>\n",
       "      <td>75</td>\n",
       "      <td>62</td>\n",
       "      <td>1</td>\n",
       "      <td>1</td>\n",
       "    </tr>\n",
       "    <tr>\n",
       "      <th>301</th>\n",
       "      <td>76</td>\n",
       "      <td>67</td>\n",
       "      <td>0</td>\n",
       "      <td>1</td>\n",
       "    </tr>\n",
       "    <tr>\n",
       "      <th>302</th>\n",
       "      <td>77</td>\n",
       "      <td>65</td>\n",
       "      <td>3</td>\n",
       "      <td>1</td>\n",
       "    </tr>\n",
       "    <tr>\n",
       "      <th>303</th>\n",
       "      <td>78</td>\n",
       "      <td>65</td>\n",
       "      <td>1</td>\n",
       "      <td>2</td>\n",
       "    </tr>\n",
       "    <tr>\n",
       "      <th>304</th>\n",
       "      <td>83</td>\n",
       "      <td>58</td>\n",
       "      <td>2</td>\n",
       "      <td>2</td>\n",
       "    </tr>\n",
       "  </tbody>\n",
       "</table>\n",
       "<p>305 rows × 4 columns</p>\n",
       "</div>"
      ],
      "text/plain": [
       "     Age of patient at time of operation  \\\n",
       "0                                     30   \n",
       "1                                     30   \n",
       "2                                     31   \n",
       "3                                     31   \n",
       "4                                     33   \n",
       "..                                   ...   \n",
       "300                                   75   \n",
       "301                                   76   \n",
       "302                                   77   \n",
       "303                                   78   \n",
       "304                                   83   \n",
       "\n",
       "     Patient year of operation (year - 1900, numerical)  Nodes  \\\n",
       "0                                                   62       3   \n",
       "1                                                   65       0   \n",
       "2                                                   59       2   \n",
       "3                                                   65       4   \n",
       "4                                                   58      10   \n",
       "..                                                 ...     ...   \n",
       "300                                                 62       1   \n",
       "301                                                 67       0   \n",
       "302                                                 65       3   \n",
       "303                                                 65       1   \n",
       "304                                                 58       2   \n",
       "\n",
       "     Survival Status for patient died within 5 year  \n",
       "0                                                 1  \n",
       "1                                                 1  \n",
       "2                                                 1  \n",
       "3                                                 1  \n",
       "4                                                 1  \n",
       "..                                              ...  \n",
       "300                                               1  \n",
       "301                                               1  \n",
       "302                                               1  \n",
       "303                                               2  \n",
       "304                                               2  \n",
       "\n",
       "[305 rows x 4 columns]"
      ]
     },
     "execution_count": 11,
     "metadata": {},
     "output_type": "execute_result"
    }
   ],
   "source": [
    "# String Indexer\n",
    "\n",
    "\n",
    "df_SI = df_pd2\n",
    "\n",
    "cat_columns = df_SI.select_dtypes(['object'])\n",
    "cat_columns\n",
    "\n",
    "#Convert from object type to cat type\n",
    "for i in cat_columns:\n",
    "    df_SI[i] = df_SI[i].astype('category')\n",
    "\n",
    "# Convert to Encoded values\n",
    "cat_columns = df_SI.select_dtypes(['category'])\n",
    "LE = LabelEncoder()\n",
    "for i in cat_columns:\n",
    "    df_SI[i] = LE.fit_transform(df_SI[i])\n",
    "    \n",
    "df_pd3 = df_SI\n",
    "df_pd3"
   ]
  },
  {
   "cell_type": "markdown",
   "id": "3f3f6e2b",
   "metadata": {},
   "source": [
    "## Question 2: Using \"Survival Status for patients died within 5 years\" as your target variable, implement the following classification algorithms"
   ]
  },
  {
   "cell_type": "markdown",
   "id": "dca7ee4a",
   "metadata": {},
   "source": [
    "### Splitting the Data"
   ]
  },
  {
   "cell_type": "code",
   "execution_count": 12,
   "id": "53719ced",
   "metadata": {},
   "outputs": [],
   "source": [
    "# Splitting the Data\n",
    "\n",
    "\n",
    "target_variable_name = 'Survival Status for patient died within 5 year'\n",
    "\n",
    "# Setting the pre-proccessed dataframe\n",
    "df_datasplit = df_pd3\n",
    "\n",
    "X = df_datasplit.drop(target_variable_name, axis = 1)\n",
    "y = df_datasplit[target_variable_name]\n",
    "\n",
    "X_train, X_test, y_train, y_test = train_test_split(X, y, test_size = 0.20)"
   ]
  },
  {
   "cell_type": "code",
   "execution_count": 13,
   "id": "a9d586c1",
   "metadata": {},
   "outputs": [],
   "source": [
    "# Recording Results\n",
    "\n",
    "\n",
    "Train_score = []\n",
    "Test_score = []\n",
    "r2 = []\n",
    "MSE = []\n",
    "ME = []"
   ]
  },
  {
   "cell_type": "markdown",
   "id": "be2b5ebc",
   "metadata": {},
   "source": [
    "### Logisitic Regression"
   ]
  },
  {
   "cell_type": "code",
   "execution_count": 14,
   "id": "83fe2cf1",
   "metadata": {},
   "outputs": [
    {
     "name": "stdout",
     "output_type": "stream",
     "text": [
      "0.0\n"
     ]
    }
   ],
   "source": [
    "# Simple Logistic Regression\n",
    "\n",
    "\n",
    "import time\n",
    "start_time = time.time()\n",
    "\n",
    "# Running Model\n",
    "lregressor1 = LogisticRegression()\n",
    "lregressor1.fit(X_train, y_train)\n",
    "\n",
    "# Predicting\n",
    "y_pred_LR = lregressor1.predict(X_test)\n",
    "\n",
    "stop_time = time.time() - start_time\n",
    "print(stop_time)"
   ]
  },
  {
   "cell_type": "raw",
   "id": "78cbcffc",
   "metadata": {},
   "source": [
    "# Results for Simple Logistic Regression\n",
    "\n",
    "\n",
    "r2_LR = r2_score(y_test,y_pred_LR) \n",
    "r2.append(r2_LR)\n",
    "\n",
    "MSE_LR = mean_squared_error(y_test, y_pred_LR)\n",
    "MSE.append(MSE_LR)\n",
    "\n",
    "ME_LR = max_error(y_test, y_pred_LR)\n",
    "ME.append(ME_LR)"
   ]
  },
  {
   "cell_type": "code",
   "execution_count": 15,
   "id": "51f9bc8b",
   "metadata": {},
   "outputs": [
    {
     "name": "stdout",
     "output_type": "stream",
     "text": [
      "Trainning Score is 73.36065573770492\n",
      "Testing Score is 77.04918032786885\n"
     ]
    }
   ],
   "source": [
    "# Results for Simple Logistic Regression\n",
    "\n",
    "\n",
    "Train_Score_LR = lregressor1.score(X_train,y_train)*100\n",
    "Train_score.append(Train_Score_LR)\n",
    "print(\"Trainning Score is {}\".format(Train_Score_LR))\n",
    "\n",
    "Test_Score_LR = lregressor1.score(X_test,y_test)*100\n",
    "Test_score.append(Test_Score_LR)\n",
    "print(\"Testing Score is {}\".format(Test_Score_LR))"
   ]
  },
  {
   "cell_type": "markdown",
   "id": "35fab72d",
   "metadata": {},
   "source": [
    "### Decision Tree"
   ]
  },
  {
   "cell_type": "code",
   "execution_count": 16,
   "id": "bbbea9eb",
   "metadata": {},
   "outputs": [],
   "source": [
    "# Decision Tree\n",
    "\n",
    "\n",
    "# Running Model\n",
    "DecisionTree = DecisionTreeClassifier()\n",
    "DecisionTree.fit(X_train, y_train)\n",
    "\n",
    "# Predicting\n",
    "y_pred_DT = DecisionTree.predict(X_test)"
   ]
  },
  {
   "cell_type": "code",
   "execution_count": 17,
   "id": "6d160e02",
   "metadata": {},
   "outputs": [
    {
     "name": "stdout",
     "output_type": "stream",
     "text": [
      "Trainning Score is 98.36065573770492\n",
      "Testing Score is 65.57377049180327\n"
     ]
    }
   ],
   "source": [
    "# Results for Decision Tree\n",
    "\n",
    "\n",
    "Train_Score_DT = DecisionTree.score(X_train,y_train)*100\n",
    "Train_score.append(Train_Score_DT)\n",
    "print(\"Trainning Score is {}\".format(Train_Score_DT))\n",
    "\n",
    "Test_Score_DT = DecisionTree.score(X_test,y_test)*100\n",
    "Test_score.append(Test_Score_DT)\n",
    "print(\"Testing Score is {}\".format(Test_Score_DT))"
   ]
  },
  {
   "cell_type": "markdown",
   "id": "11504040",
   "metadata": {},
   "source": [
    "### Random Forest"
   ]
  },
  {
   "cell_type": "code",
   "execution_count": 18,
   "id": "4c1d7bdd",
   "metadata": {},
   "outputs": [
    {
     "name": "stdout",
     "output_type": "stream",
     "text": [
      "0.07853460311889648\n"
     ]
    }
   ],
   "source": [
    "# Random Forest (Max Depth = 5)\n",
    "\n",
    "\n",
    "start_time = time.time()\n",
    "\n",
    "# Running Model\n",
    "RFRegressor = RandomForestClassifier(max_depth= 5, random_state=0)\n",
    "RFRegressor.fit(X_train,y_train)\n",
    "\n",
    "# Predicting\n",
    "y_pred_RF = RFRegressor.predict(X_test)\n",
    "\n",
    "stop_time = time.time() - start_time\n",
    "print(stop_time)"
   ]
  },
  {
   "cell_type": "code",
   "execution_count": 19,
   "id": "6b5b93e8",
   "metadata": {},
   "outputs": [
    {
     "name": "stdout",
     "output_type": "stream",
     "text": [
      "Trainning Score is 84.01639344262296\n",
      "Testing Score is 77.04918032786885\n"
     ]
    }
   ],
   "source": [
    "# Results for Random Forest Regressor\n",
    "\n",
    "\n",
    "Train_Score_RF = RFRegressor.score(X_train,y_train)*100\n",
    "Train_score.append(Train_Score_RF)\n",
    "print(\"Trainning Score is {}\".format(Train_Score_RF))\n",
    "\n",
    "Test_Score_RF = RFRegressor.score(X_test,y_test)*100\n",
    "Test_score.append(Test_Score_RF)\n",
    "print(\"Testing Score is {}\".format(Test_Score_RF))"
   ]
  },
  {
   "cell_type": "markdown",
   "id": "bb9e85dd",
   "metadata": {},
   "source": [
    "### Support Vector Machine"
   ]
  },
  {
   "cell_type": "code",
   "execution_count": 20,
   "id": "9d52442a",
   "metadata": {},
   "outputs": [],
   "source": [
    "# Running SVM\n",
    "\n",
    "\n",
    "# Sigmoid was selected  due to the Binary Output\n",
    "svmachine = SVC(kernel='sigmoid') #sigmoid, poly, rbf, ... \n",
    "svmachine.fit(X_train, y_train)\n",
    "\n",
    "# Predicting\n",
    "y_pred_SVM = svmachine.predict(X_test)"
   ]
  },
  {
   "cell_type": "code",
   "execution_count": 21,
   "id": "0d228b2f",
   "metadata": {},
   "outputs": [
    {
     "name": "stdout",
     "output_type": "stream",
     "text": [
      "Trainning Score is 72.95081967213115\n",
      "Testing Score is 75.40983606557377\n"
     ]
    }
   ],
   "source": [
    "# Results for Random Forest Regressor\n",
    "\n",
    "\n",
    "Train_Score_SVM = svmachine.score(X_train,y_train)*100\n",
    "Train_score.append(Train_Score_SVM)\n",
    "print(\"Trainning Score is {}\".format(Train_Score_SVM))\n",
    "\n",
    "Test_Score_SVM = svmachine.score(X_test,y_test)*100\n",
    "Test_score.append(Test_Score_SVM)\n",
    "print(\"Testing Score is {}\".format(Test_Score_SVM))"
   ]
  },
  {
   "cell_type": "markdown",
   "id": "7ab06155",
   "metadata": {},
   "source": [
    "### Adaboost"
   ]
  },
  {
   "cell_type": "code",
   "execution_count": 22,
   "id": "3770a101",
   "metadata": {},
   "outputs": [],
   "source": [
    "# Running Adaboost with Repeated Stratified K Folds\n",
    "\n",
    "\n",
    "ab = AdaBoostClassifier(random_state=1)\n",
    "ab.fit(X_train, y_train)\n",
    "\n",
    "# Predicting\n",
    "y_pred_AB = ab.predict(X_test)\n"
   ]
  },
  {
   "cell_type": "code",
   "execution_count": 23,
   "id": "673ace96",
   "metadata": {},
   "outputs": [
    {
     "name": "stdout",
     "output_type": "stream",
     "text": [
      "Trainning Score is 79.91803278688525\n",
      "Testing Score is 70.49180327868852\n"
     ]
    }
   ],
   "source": [
    "# Results\n",
    "\n",
    "\n",
    "Train_Score_AB = ab.score(X_train,y_train)*100\n",
    "Train_score.append(Train_Score_AB)\n",
    "print(\"Trainning Score is {}\".format(Train_Score_AB))\n",
    "\n",
    "Test_Score_AB = ab.score(X_test,y_test)*100\n",
    "Test_score.append(Test_Score_AB)\n",
    "print(\"Testing Score is {}\".format(Test_Score_AB))"
   ]
  },
  {
   "cell_type": "markdown",
   "id": "b4ceb9b0",
   "metadata": {},
   "source": [
    "### Naive Bayes Classifier"
   ]
  },
  {
   "cell_type": "code",
   "execution_count": 24,
   "id": "012c3dce",
   "metadata": {},
   "outputs": [
    {
     "data": {
      "text/plain": [
       "array([1, 1, 2, 1, 1, 1, 1, 1, 1, 2, 1, 1, 1, 1, 1, 1, 1, 1, 1, 1, 2, 1,\n",
       "       1, 1, 1, 1, 1, 1, 1, 2, 1, 1, 1, 2, 1, 1, 1, 1, 1, 1, 1, 1, 1, 1,\n",
       "       1, 2, 1, 1, 1, 1, 1, 1, 1, 1, 1, 1, 1, 1, 1, 1, 1], dtype=int64)"
      ]
     },
     "execution_count": 24,
     "metadata": {},
     "output_type": "execute_result"
    }
   ],
   "source": [
    "# Running Gaussian Naive Bayes Classifier\n",
    "\n",
    "\n",
    "# Running Model\n",
    "gnb = GaussianNB()\n",
    "gnb.fit(X_train,y_train)\n",
    "\n",
    "# Predicting\n",
    "gnb.predict(X_test)"
   ]
  },
  {
   "cell_type": "code",
   "execution_count": 47,
   "id": "5ab54b2c",
   "metadata": {},
   "outputs": [
    {
     "name": "stdout",
     "output_type": "stream",
     "text": [
      "Trainning Score is 73.66255144032921\n",
      "Testing Score is 80.64516129032258\n"
     ]
    }
   ],
   "source": [
    "# Results\n",
    "\n",
    "\n",
    "Train_Score_GNB = gnb.score(X_train,y_train)*100\n",
    "Train_score.append(Train_Score_GNB)\n",
    "print(\"Trainning Score is {}\".format(Train_Score_GNB))\n",
    "\n",
    "Test_Score_GNB = gnb.score(X_test,y_test)*100\n",
    "Test_score.append(Test_Score_GNB)\n",
    "print(\"Testing Score is {}\".format(Test_Score_GNB))"
   ]
  },
  {
   "cell_type": "markdown",
   "id": "3317da97",
   "metadata": {},
   "source": [
    "## Question 3: Make a comparison of the prediction performance of the different algorithms implemented"
   ]
  },
  {
   "cell_type": "code",
   "execution_count": 26,
   "id": "cc615378",
   "metadata": {},
   "outputs": [
    {
     "name": "stdout",
     "output_type": "stream",
     "text": [
      "[77.04918032786885, 65.57377049180327, 77.04918032786885, 75.40983606557377, 70.49180327868852, 78.68852459016394]\n",
      "[73.36065573770492, 98.36065573770492, 84.01639344262296, 72.95081967213115, 79.91803278688525, 73.77049180327869]\n"
     ]
    }
   ],
   "source": [
    "print(Test_score)\n",
    "print(Train_score)"
   ]
  },
  {
   "cell_type": "code",
   "execution_count": 27,
   "id": "04d756ed",
   "metadata": {},
   "outputs": [
    {
     "data": {
      "text/html": [
       "<div>\n",
       "<style scoped>\n",
       "    .dataframe tbody tr th:only-of-type {\n",
       "        vertical-align: middle;\n",
       "    }\n",
       "\n",
       "    .dataframe tbody tr th {\n",
       "        vertical-align: top;\n",
       "    }\n",
       "\n",
       "    .dataframe thead th {\n",
       "        text-align: right;\n",
       "    }\n",
       "</style>\n",
       "<table border=\"1\" class=\"dataframe\">\n",
       "  <thead>\n",
       "    <tr style=\"text-align: right;\">\n",
       "      <th></th>\n",
       "      <th>0</th>\n",
       "      <th>1</th>\n",
       "      <th>2</th>\n",
       "      <th>3</th>\n",
       "      <th>4</th>\n",
       "      <th>5</th>\n",
       "    </tr>\n",
       "  </thead>\n",
       "  <tbody>\n",
       "    <tr>\n",
       "      <th>Test Scores</th>\n",
       "      <td>77.05</td>\n",
       "      <td>65.57</td>\n",
       "      <td>77.05</td>\n",
       "      <td>75.41</td>\n",
       "      <td>70.49</td>\n",
       "      <td>78.69</td>\n",
       "    </tr>\n",
       "    <tr>\n",
       "      <th>Training Scores</th>\n",
       "      <td>73.36</td>\n",
       "      <td>98.36</td>\n",
       "      <td>84.02</td>\n",
       "      <td>72.95</td>\n",
       "      <td>79.92</td>\n",
       "      <td>73.77</td>\n",
       "    </tr>\n",
       "  </tbody>\n",
       "</table>\n",
       "</div>"
      ],
      "text/plain": [
       "                     0      1      2      3      4      5\n",
       "Test Scores      77.05  65.57  77.05  75.41  70.49  78.69\n",
       "Training Scores  73.36  98.36  84.02  72.95  79.92  73.77"
      ]
     },
     "execution_count": 27,
     "metadata": {},
     "output_type": "execute_result"
    }
   ],
   "source": [
    "# Preparing Results\n",
    "\n",
    "results_df_Train = pd.DataFrame(Train_score, columns = ['Training Scores'])\n",
    "results_df_Test = pd.DataFrame(Test_score, columns = ['Test Scores'])\n",
    "\n",
    "\n",
    "results_df = pd.concat([results_df_Test,results_df_Train], axis = 1)\n",
    "results_df\n",
    "results_df_round = round(results_df, 2)\n",
    "results_df_t = results_df_round.T\n",
    "results_df_t.head()"
   ]
  },
  {
   "cell_type": "code",
   "execution_count": null,
   "id": "56ff6d13",
   "metadata": {},
   "outputs": [],
   "source": []
  },
  {
   "cell_type": "code",
   "execution_count": 28,
   "id": "5316fe8a",
   "metadata": {},
   "outputs": [
    {
     "data": {
      "image/png": "[encoded data removed]",
      "text/plain": [
       "<Figure size 432x288 with 1 Axes>"
      ]
     },
     "metadata": {
      "needs_background": "light"
     },
     "output_type": "display_data"
    }
   ],
   "source": [
    "# Plotting Results Test Data\n",
    "\n",
    "array = ['Logistic', 'Decision Tree', 'Random Forest', 'SVM', 'Adaboost','Naive Bayes']\n",
    "fig = plt.figure()\n",
    "ax = fig.add_axes([0,0,1,1])\n",
    "ax.bar(array, Test_score)\n",
    "plt.show()"
   ]
  },
  {
   "cell_type": "code",
   "execution_count": 32,
   "id": "2059dde4",
   "metadata": {},
   "outputs": [
    {
     "data": {
      "image/png": "[encoded data removed]",
      "text/plain": [
       "<Figure size 432x288 with 1 Axes>"
      ]
     },
     "metadata": {
      "needs_background": "light"
     },
     "output_type": "display_data"
    }
   ],
   "source": [
    "# Plotting Results Training Data\n",
    "\n",
    "\n",
    "fig = plt.figure()\n",
    "ax = fig.add_axes([0,0,1,1])\n",
    "ax.bar(array, Train_score)\n",
    "plt.show()"
   ]
  },
  {
   "cell_type": "markdown",
   "id": "d7bd8a2d",
   "metadata": {},
   "source": [
    "## Question 4: There is a problem with the dataset. Try detecting the problem and correct your predictions"
   ]
  },
  {
   "cell_type": "code",
   "execution_count": 30,
   "id": "4b2e2485",
   "metadata": {},
   "outputs": [
    {
     "name": "stdout",
     "output_type": "stream",
     "text": [
      "The amount of that were false: 224\n",
      "The amount of that were true: 81\n"
     ]
    }
   ],
   "source": [
    "# Seeing if the problem is in the Y variable\n",
    "\n",
    "\n",
    "Amount_False = np.sum(df_pd[\"Survival Status for patient died within 5 year\"] == 1)\n",
    "Amount_True = np.sum(df_pd[\"Survival Status for patient died within 5 year\"] == 2)\n",
    "Total_Amount = np.sum(df_pd[\"Survival Status for patient died within 5 year\"])\n",
    "\n",
    "\n",
    "print('The amount of that were false: {}'.format(Amount_False))\n",
    "print('The amount of that were true: {}'.format(Amount_True))"
   ]
  },
  {
   "cell_type": "code",
   "execution_count": 31,
   "id": "d015eb4a",
   "metadata": {},
   "outputs": [
    {
     "data": {
      "text/plain": [
       "<AxesSubplot:xlabel='Survival Status for patient died within 5 year', ylabel='count'>"
      ]
     },
     "execution_count": 31,
     "metadata": {},
     "output_type": "execute_result"
    },
    {
     "data": {
      "image/png": "[encoded data removed]",
      "text/plain": [
       "<Figure size 432x288 with 1 Axes>"
      ]
     },
     "metadata": {
      "needs_background": "light"
     },
     "output_type": "display_data"
    }
   ],
   "source": [
    "# Plotting \n",
    "\n",
    "\n",
    "sns.countplot(df_pd['Survival Status for patient died within 5 year'])"
   ]
  },
  {
   "cell_type": "markdown",
   "id": "14cde23a",
   "metadata": {},
   "source": [
    "The problem with the dataset is an imbalance of outcomes. To change predictions we would need to either collect more data, decrease the amount of data to where they are equal or generate data until both outcomes have equal amount of data. The final solution is making sure the data is proportionally split into training and testing data."
   ]
  },
  {
   "cell_type": "code",
   "execution_count": 42,
   "id": "30a028ba",
   "metadata": {},
   "outputs": [],
   "source": [
    "# Splitting the Data\n",
    "\n",
    "\n",
    "target_variable_name = 'Survival Status for patient died within 5 year'\n",
    "\n",
    "# Splitting the values\n",
    "df_datasplit1 = df_pd3[df_pd3['Survival Status for patient died within 5 year'] != 1]\n",
    "df_datasplit2 = df_pd3[df_pd3['Survival Status for patient died within 5 year'] != 2]\n"
   ]
  },
  {
   "cell_type": "code",
   "execution_count": 43,
   "id": "1747fa71",
   "metadata": {},
   "outputs": [],
   "source": [
    "# Setting the pre-proccessed dataframe\n",
    "\n",
    "\n",
    "df_datasplit = df_datasplit1\n",
    "\n",
    "X = df_datasplit.drop(target_variable_name, axis = 1)\n",
    "y = df_datasplit[target_variable_name]\n",
    "\n",
    "X_train, X_test, y_train, y_test = train_test_split(X, y, test_size = 0.20)\n",
    "\n",
    "# Setting the pre-processed dataframe 2\n",
    "df_datasplit = df_datasplit2\n",
    "\n",
    "X2 = df_datasplit.drop(target_variable_name, axis = 1)\n",
    "y2 = df_datasplit[target_variable_name]\n",
    "\n",
    "X2_train, X2_test, y2_train, y2_test = train_test_split(X2, y2, test_size = 0.20)"
   ]
  },
  {
   "cell_type": "code",
   "execution_count": 44,
   "id": "d26c09e8",
   "metadata": {},
   "outputs": [],
   "source": [
    "# Consolidating the Data\n",
    "\n",
    "\n",
    "X_train = X_train.append(X2_train)\n",
    "X_test = X_test.append(X2_test)\n",
    "y_train = y_train.append(y2_train)\n",
    "y_test = y_test.append(y2_test)"
   ]
  },
  {
   "cell_type": "code",
   "execution_count": 45,
   "id": "fc5aa7df",
   "metadata": {},
   "outputs": [
    {
     "name": "stdout",
     "output_type": "stream",
     "text": [
      "(243, 3)\n",
      "(243,)\n"
     ]
    }
   ],
   "source": [
    "print(X_train.shape)\n",
    "print(y_train.shape)"
   ]
  },
  {
   "cell_type": "code",
   "execution_count": 46,
   "id": "5dfa7373",
   "metadata": {},
   "outputs": [
    {
     "name": "stdout",
     "output_type": "stream",
     "text": [
      "Trainning Score is 73.66255144032921\n",
      "Testing Score is 80.64516129032258\n"
     ]
    }
   ],
   "source": [
    "# Running Gaussian Naive Bayes Classifier (as test)\n",
    "\n",
    "\n",
    "# Running Model\n",
    "gnb = GaussianNB()\n",
    "gnb.fit(X_train,y_train)\n",
    "\n",
    "# Predicting\n",
    "gnb.predict(X_test)\n",
    "\n",
    "# Results\n",
    "Train_Score_GNB = gnb.score(X_train,y_train)*100\n",
    "print(\"Trainning Score is {}\".format(Train_Score_GNB))\n",
    "\n",
    "Test_Score_GNB = gnb.score(X_test,y_test)*100\n",
    "print(\"Testing Score is {}\".format(Test_Score_GNB))"
   ]
  }
 ],
 "metadata": {
  "kernelspec": {
   "display_name": "Python 3",
   "language": "python",
   "name": "python3"
  },
  "language_info": {
   "codemirror_mode": {
    "name": "ipython",
    "version": 3
   },
   "file_extension": ".py",
   "mimetype": "text/x-python",
   "name": "python",
   "nbconvert_exporter": "python",
   "pygments_lexer": "ipython3",
   "version": "3.8.8"
  }
 },
 "nbformat": 4,
 "nbformat_minor": 5
}
