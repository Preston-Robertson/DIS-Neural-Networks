{
 "cells": [
  {
   "cell_type": "markdown",
   "id": "6189ab25",
   "metadata": {},
   "source": [
    "# Homework 4"
   ]
  },
  {
   "cell_type": "markdown",
   "id": "53feecef",
   "metadata": {},
   "source": [
    "## Loading Libraries"
   ]
  },
  {
   "cell_type": "code",
   "execution_count": 1,
   "id": "ca8cba80",
   "metadata": {},
   "outputs": [
    {
     "data": {
      "text/plain": [
       "'C:\\\\Spark\\\\spark-3.1.2-bin-hadoop3.2'"
      ]
     },
     "execution_count": 1,
     "metadata": {},
     "output_type": "execute_result"
    }
   ],
   "source": [
    "# Import Pyspark\n",
    "\n",
    "import findspark\n",
    "findspark.init()\n",
    "findspark.find()\n",
    "import pyspark\n",
    "findspark.find()"
   ]
  },
  {
   "cell_type": "code",
   "execution_count": 2,
   "id": "9b5617a8",
   "metadata": {},
   "outputs": [],
   "source": [
    "# Importing Pyspark 2\n",
    "\n",
    "from pyspark.sql import SparkSession\n",
    "spark = SparkSession.builder.appName(\"Crosslisted_Project\").getOrCreate()\n",
    "from pyspark.sql.functions import approxCountDistinct, countDistinct, count, when, isnan, col, isnull"
   ]
  },
  {
   "cell_type": "code",
   "execution_count": 3,
   "id": "4cd9ffcc",
   "metadata": {},
   "outputs": [],
   "source": [
    "# Importing Libraries\n",
    "\n",
    "\n",
    "# Basic Libraries #################################################################################################\n",
    "import pandas as pd\n",
    "import numpy as np\n",
    "import matplotlib.pyplot as plt\n",
    "import os \n",
    "import seaborn as sns\n",
    "import sklearn\n",
    "from sklearn import linear_model\n",
    "\n",
    "\n",
    "# For Feature Engineering #########################################################################################\n",
    "\n",
    "# For Plotting Correlation Matrix and Scatter Plot\n",
    "from mpl_toolkits.mplot3d import Axes3D\n",
    "from sklearn.preprocessing import StandardScaler\n",
    "\n",
    "# PCA\n",
    "from sklearn.decomposition import PCA\n",
    "\n",
    "\n",
    "# For Machine Learning Models #####################################################################################\n",
    "\n",
    "# For Metrics/Needed\n",
    "from sklearn.model_selection import train_test_split\n",
    "from sklearn import metrics\n",
    "from sklearn.metrics import r2_score\n",
    "\n",
    "# For Linear Regression\n",
    "from sklearn.linear_model import LinearRegression\n",
    "\n",
    "# Ridge Regression\n",
    "from sklearn.linear_model import Ridge\n",
    "\n",
    "# Lasso Regression\n",
    "from sklearn.linear_model import Lasso\n",
    "\n",
    "# ElasticNet Regression\n",
    "from sklearn.linear_model import ElasticNet\n",
    "\n",
    "# For SVM\n",
    "from sklearn import svm\n",
    "from sklearn.svm import SVC\n",
    "from sklearn.metrics import mean_squared_error, r2_score, max_error\n",
    "from sklearn.svm import SVR\n",
    "\n",
    "# Decision Tree\n",
    "from sklearn.model_selection import cross_val_score\n",
    "from sklearn.tree import DecisionTreeClassifier\n",
    "from sklearn.tree import DecisionTreeRegressor\n",
    "\n",
    "# Random Forest\n",
    "from sklearn.ensemble import RandomForestClassifier\n",
    "from sklearn.ensemble import RandomForestRegressor\n",
    "\n",
    "# Logistic Regression\n",
    "from sklearn.linear_model import LogisticRegression\n",
    "\n",
    "# Gaussian Process Regression\n",
    "from sklearn.gaussian_process import GaussianProcessRegressor\n",
    "from sklearn.gaussian_process.kernels import ConstantKernel, RBF,RationalQuadratic,WhiteKernel, Matern, ExpSineSquared\n",
    "\n",
    "\n",
    "# Personal Preference #############################################################################################\n",
    "import warnings\n",
    "warnings.filterwarnings('ignore')"
   ]
  },
  {
   "cell_type": "code",
   "execution_count": 4,
   "id": "c21c78d3",
   "metadata": {},
   "outputs": [
    {
     "name": "stdout",
     "output_type": "stream",
     "text": [
      "root\n",
      " |-- TV: double (nullable = true)\n",
      " |-- radio: double (nullable = true)\n",
      " |-- newspaper: double (nullable = true)\n",
      " |-- sales: double (nullable = true)\n",
      "\n"
     ]
    }
   ],
   "source": [
    "# Uploading dataset as a Pyspark Dataframe\n",
    "\n",
    "dataset_file = 'Advertising.csv'\n",
    "\n",
    "file_location = dataset_file\n",
    "file_type = \"csv\"\n",
    "infer_schema = \"true\"\n",
    "first_row_is_header = \"true\"\n",
    "delimiter = \",\"\n",
    "\n",
    "df_sp = spark.read.format(file_type)\\\n",
    ".option(\"InferSchema\", infer_schema)\\\n",
    ".option(\"header\", first_row_is_header)\\\n",
    ".option(\"sep\", delimiter)\\\n",
    ".load(file_location)\n",
    "\n",
    "df_sp.printSchema()"
   ]
  },
  {
   "cell_type": "code",
   "execution_count": 5,
   "id": "00000c35",
   "metadata": {},
   "outputs": [
    {
     "data": {
      "text/html": [
       "<div>\n",
       "<style scoped>\n",
       "    .dataframe tbody tr th:only-of-type {\n",
       "        vertical-align: middle;\n",
       "    }\n",
       "\n",
       "    .dataframe tbody tr th {\n",
       "        vertical-align: top;\n",
       "    }\n",
       "\n",
       "    .dataframe thead th {\n",
       "        text-align: right;\n",
       "    }\n",
       "</style>\n",
       "<table border=\"1\" class=\"dataframe\">\n",
       "  <thead>\n",
       "    <tr style=\"text-align: right;\">\n",
       "      <th></th>\n",
       "      <th>TV</th>\n",
       "      <th>radio</th>\n",
       "      <th>newspaper</th>\n",
       "      <th>sales</th>\n",
       "    </tr>\n",
       "  </thead>\n",
       "  <tbody>\n",
       "    <tr>\n",
       "      <th>0</th>\n",
       "      <td>230.1</td>\n",
       "      <td>37.8</td>\n",
       "      <td>69.2</td>\n",
       "      <td>22.1</td>\n",
       "    </tr>\n",
       "    <tr>\n",
       "      <th>1</th>\n",
       "      <td>44.5</td>\n",
       "      <td>39.3</td>\n",
       "      <td>45.1</td>\n",
       "      <td>10.4</td>\n",
       "    </tr>\n",
       "    <tr>\n",
       "      <th>2</th>\n",
       "      <td>17.2</td>\n",
       "      <td>45.9</td>\n",
       "      <td>69.3</td>\n",
       "      <td>9.3</td>\n",
       "    </tr>\n",
       "    <tr>\n",
       "      <th>3</th>\n",
       "      <td>151.5</td>\n",
       "      <td>41.3</td>\n",
       "      <td>58.5</td>\n",
       "      <td>18.5</td>\n",
       "    </tr>\n",
       "    <tr>\n",
       "      <th>4</th>\n",
       "      <td>180.8</td>\n",
       "      <td>10.8</td>\n",
       "      <td>58.4</td>\n",
       "      <td>12.9</td>\n",
       "    </tr>\n",
       "  </tbody>\n",
       "</table>\n",
       "</div>"
      ],
      "text/plain": [
       "      TV  radio  newspaper  sales\n",
       "0  230.1   37.8       69.2   22.1\n",
       "1   44.5   39.3       45.1   10.4\n",
       "2   17.2   45.9       69.3    9.3\n",
       "3  151.5   41.3       58.5   18.5\n",
       "4  180.8   10.8       58.4   12.9"
      ]
     },
     "execution_count": 5,
     "metadata": {},
     "output_type": "execute_result"
    }
   ],
   "source": [
    "# Uploading Data as Pandas Dataframe\n",
    "\n",
    "df_pd = pd.read_csv(dataset_file)\n",
    "df_pd.head(5)"
   ]
  },
  {
   "cell_type": "markdown",
   "id": "7e12a0b4",
   "metadata": {},
   "source": [
    "## Question 1: Check if there is any missing value in the dataset. Perform some basic exploratory data analysis. "
   ]
  },
  {
   "cell_type": "code",
   "execution_count": 6,
   "id": "68290445",
   "metadata": {},
   "outputs": [
    {
     "data": {
      "text/html": [
       "<div>\n",
       "<style scoped>\n",
       "    .dataframe tbody tr th:only-of-type {\n",
       "        vertical-align: middle;\n",
       "    }\n",
       "\n",
       "    .dataframe tbody tr th {\n",
       "        vertical-align: top;\n",
       "    }\n",
       "\n",
       "    .dataframe thead th {\n",
       "        text-align: right;\n",
       "    }\n",
       "</style>\n",
       "<table border=\"1\" class=\"dataframe\">\n",
       "  <thead>\n",
       "    <tr style=\"text-align: right;\">\n",
       "      <th></th>\n",
       "      <th>summary</th>\n",
       "      <th>TV</th>\n",
       "      <th>radio</th>\n",
       "      <th>newspaper</th>\n",
       "      <th>sales</th>\n",
       "    </tr>\n",
       "  </thead>\n",
       "  <tbody>\n",
       "    <tr>\n",
       "      <th>0</th>\n",
       "      <td>count</td>\n",
       "      <td>200</td>\n",
       "      <td>200</td>\n",
       "      <td>200</td>\n",
       "      <td>200</td>\n",
       "    </tr>\n",
       "    <tr>\n",
       "      <th>1</th>\n",
       "      <td>mean</td>\n",
       "      <td>147.0425</td>\n",
       "      <td>23.264000000000024</td>\n",
       "      <td>30.553999999999995</td>\n",
       "      <td>14.022500000000003</td>\n",
       "    </tr>\n",
       "    <tr>\n",
       "      <th>2</th>\n",
       "      <td>stddev</td>\n",
       "      <td>85.85423631490805</td>\n",
       "      <td>14.846809176168728</td>\n",
       "      <td>21.77862083852283</td>\n",
       "      <td>5.217456565710477</td>\n",
       "    </tr>\n",
       "    <tr>\n",
       "      <th>3</th>\n",
       "      <td>min</td>\n",
       "      <td>0.7</td>\n",
       "      <td>0.0</td>\n",
       "      <td>0.3</td>\n",
       "      <td>1.6</td>\n",
       "    </tr>\n",
       "    <tr>\n",
       "      <th>4</th>\n",
       "      <td>max</td>\n",
       "      <td>296.4</td>\n",
       "      <td>49.6</td>\n",
       "      <td>114.0</td>\n",
       "      <td>27.0</td>\n",
       "    </tr>\n",
       "  </tbody>\n",
       "</table>\n",
       "</div>"
      ],
      "text/plain": [
       "  summary                 TV               radio           newspaper  \\\n",
       "0   count                200                 200                 200   \n",
       "1    mean           147.0425  23.264000000000024  30.553999999999995   \n",
       "2  stddev  85.85423631490805  14.846809176168728   21.77862083852283   \n",
       "3     min                0.7                 0.0                 0.3   \n",
       "4     max              296.4                49.6               114.0   \n",
       "\n",
       "                sales  \n",
       "0                 200  \n",
       "1  14.022500000000003  \n",
       "2   5.217456565710477  \n",
       "3                 1.6  \n",
       "4                27.0  "
      ]
     },
     "execution_count": 6,
     "metadata": {},
     "output_type": "execute_result"
    }
   ],
   "source": [
    "# Basic Data Analyis\n",
    "\n",
    "df_sp.describe().toPandas()"
   ]
  },
  {
   "cell_type": "code",
   "execution_count": 7,
   "id": "14d1b5f8",
   "metadata": {},
   "outputs": [
    {
     "data": {
      "image/png": "[encoded data removed]",
      "text/plain": [
       "<Figure size 640x640 with 2 Axes>"
      ]
     },
     "metadata": {},
     "output_type": "display_data"
    }
   ],
   "source": [
    "# Correlation Matrix\n",
    "\n",
    "def plotCorrelationMatrix(df_pd, graphWidth):\n",
    "    filename = 'Advertising'\n",
    "    df = df_pd.dropna('columns')\n",
    "    df = df[[col for col in df if df[col].nunique() > 1]] \n",
    "    if df.shape[1] < 2:\n",
    "        print(f'No correlation plots shown: The number of non-NaN or constant columns ({df.shape[1]}) is less than 2')\n",
    "        return\n",
    "    corr = df.corr()\n",
    "    plt.figure(num=None, figsize=(graphWidth, graphWidth), dpi=80, facecolor='w', edgecolor='k')\n",
    "    corrMat = plt.matshow(corr, fignum = 1)\n",
    "    plt.xticks(range(len(corr.columns)), corr.columns, rotation=90)\n",
    "    plt.yticks(range(len(corr.columns)), corr.columns)\n",
    "    plt.gca().xaxis.tick_bottom()\n",
    "    plt.colorbar(corrMat)\n",
    "    plt.title(f'Correlation Matrix for {filename}', fontsize=15)\n",
    "    plt.show()\n",
    "\n",
    "\n",
    "plotCorrelationMatrix(df_pd, 8)"
   ]
  },
  {
   "cell_type": "code",
   "execution_count": 8,
   "id": "5c6adcfb",
   "metadata": {},
   "outputs": [
    {
     "data": {
      "text/html": [
       "<div>\n",
       "<style scoped>\n",
       "    .dataframe tbody tr th:only-of-type {\n",
       "        vertical-align: middle;\n",
       "    }\n",
       "\n",
       "    .dataframe tbody tr th {\n",
       "        vertical-align: top;\n",
       "    }\n",
       "\n",
       "    .dataframe thead th {\n",
       "        text-align: right;\n",
       "    }\n",
       "</style>\n",
       "<table border=\"1\" class=\"dataframe\">\n",
       "  <thead>\n",
       "    <tr style=\"text-align: right;\">\n",
       "      <th></th>\n",
       "      <th>index</th>\n",
       "      <th>missing_count</th>\n",
       "      <th>missing_percentage</th>\n",
       "    </tr>\n",
       "  </thead>\n",
       "  <tbody>\n",
       "    <tr>\n",
       "      <th>0</th>\n",
       "      <td>TV</td>\n",
       "      <td>0</td>\n",
       "      <td>0.0</td>\n",
       "    </tr>\n",
       "    <tr>\n",
       "      <th>1</th>\n",
       "      <td>radio</td>\n",
       "      <td>0</td>\n",
       "      <td>0.0</td>\n",
       "    </tr>\n",
       "    <tr>\n",
       "      <th>2</th>\n",
       "      <td>newspaper</td>\n",
       "      <td>0</td>\n",
       "      <td>0.0</td>\n",
       "    </tr>\n",
       "    <tr>\n",
       "      <th>3</th>\n",
       "      <td>sales</td>\n",
       "      <td>0</td>\n",
       "      <td>0.0</td>\n",
       "    </tr>\n",
       "  </tbody>\n",
       "</table>\n",
       "</div>"
      ],
      "text/plain": [
       "       index  missing_count  missing_percentage\n",
       "0         TV              0                 0.0\n",
       "1      radio              0                 0.0\n",
       "2  newspaper              0                 0.0\n",
       "3      sales              0                 0.0"
      ]
     },
     "execution_count": 8,
     "metadata": {},
     "output_type": "execute_result"
    }
   ],
   "source": [
    "# Missing Percentage\n",
    "\n",
    "def missing_calculation(df_sp, miss_percentage=0.45):\n",
    "    \n",
    "    missing = df_sp.select(*[count(when(isnan(c) | col(c).isNull(), c)).alias(c) for c in df_sp.columns])\n",
    "    length_df = df_sp.count()\n",
    "\n",
    "    final_missing_df = missing.toPandas().transpose()\n",
    "    final_missing_df.reset_index(inplace=True) \n",
    "    final_missing_df.rename(columns={0:'missing_count'}, inplace=True) \n",
    "    final_missing_df['missing_percentage'] = final_missing_df['missing_count']/length_df\n",
    "    \n",
    "    vars_selected = final_missing_df['index'][final_missing_df['missing_percentage'] >= miss_percentage] \n",
    "    \n",
    "    return final_missing_df, vars_selected\n",
    "\n",
    "missing_df, missing_vars_selected = missing_calculation(df_sp)\n",
    "missing_df"
   ]
  },
  {
   "cell_type": "markdown",
   "id": "3093e2ee",
   "metadata": {},
   "source": [
    "## Question 2: Using Sales as your predictor variable, implement at least Eight different regression techniques on the Advertising dataset. "
   ]
  },
  {
   "cell_type": "code",
   "execution_count": 9,
   "id": "75e2c4bd",
   "metadata": {},
   "outputs": [],
   "source": [
    "# Splitting the Data\n",
    "\n",
    "TVN = 'sales' #Target Variable Name\n",
    "\n",
    "features_X = ['TV', 'radio', 'newspaper']\n",
    "X = df_pd[features_X].values\n",
    "y = df_pd[TVN].values\n",
    "\n",
    "X_train, X_test, y_train, y_test = train_test_split(X, y, train_size=0.7, test_size=0.3, random_state=100)\n"
   ]
  },
  {
   "cell_type": "code",
   "execution_count": 10,
   "id": "fecd2fa7",
   "metadata": {},
   "outputs": [
    {
     "name": "stdout",
     "output_type": "stream",
     "text": [
      "Mean Square Error:  1.8506819941636907\n",
      "r2 score (training): 0.893\n",
      "r2 score (test): 0.906\n"
     ]
    }
   ],
   "source": [
    "# Simple Linear Regression\n",
    "\n",
    "\n",
    "# Running Model\n",
    "lregressor1 = sklearn.linear_model.LinearRegression()\n",
    "lregressor1.fit(X_train, y_train)\n",
    "\n",
    "# Predicting\n",
    "y_pred = lregressor1.predict(X_test)\n",
    "\n",
    "# Results\n",
    "print('Mean Square Error: ', metrics.mean_squared_error(y_test,y_pred))\n",
    "print('r2 score (training): {:.3f}'.format(lregressor1.score(X_train, y_train)))\n",
    "print('r2 score (test): {:.3f}'.format(lregressor1.score(X_test, y_test)))"
   ]
  },
  {
   "cell_type": "code",
   "execution_count": 11,
   "id": "deff08dd",
   "metadata": {},
   "outputs": [
    {
     "name": "stdout",
     "output_type": "stream",
     "text": [
      "Mean Square Error:  1.850678449724129\n",
      "r2 score (training): 0.893\n",
      "r2 score (test): 0.906\n"
     ]
    }
   ],
   "source": [
    "# Ridge Regression\n",
    "\n",
    "\n",
    "# Running Model\n",
    "ridgeregressor = Ridge()\n",
    "ridgeregressor.fit(X_train, y_train)\n",
    "\n",
    "# Predicting\n",
    "y2_pred = ridgeregressor.predict(X_test)\n",
    "\n",
    "# Result\n",
    "print('Mean Square Error: ', metrics.mean_squared_error(y_test,y2_pred))\n",
    "print('r2 score (training): {:.3f}'.format(ridgeregressor.score(X_train, y_train)))\n",
    "print('r2 score (test): {:.3f}'.format(ridgeregressor.score(X_test, y_test)))"
   ]
  },
  {
   "cell_type": "code",
   "execution_count": 12,
   "id": "c28857ae",
   "metadata": {},
   "outputs": [
    {
     "name": "stdout",
     "output_type": "stream",
     "text": [
      "Mean Square Error:  1.8162710852457409\n",
      "r2 score (training): 0.893\n",
      "r2 score (test): 0.908\n"
     ]
    }
   ],
   "source": [
    "# Lasso Regression\n",
    "\n",
    "\n",
    "# Running Model\n",
    "lassoregressor = Lasso()\n",
    "lassoregressor.fit(X_train, y_train)\n",
    "\n",
    "# Predicting\n",
    "y3_pred = lassoregressor.predict(X_test)\n",
    "\n",
    "# Results\n",
    "print('Mean Square Error: ', metrics.mean_squared_error(y_test,y3_pred))\n",
    "print('r2 score (training): {:.3f}'.format(lassoregressor.score(X_train, y_train)))\n",
    "print('r2 score (test): {:.3f}'.format(lassoregressor.score(X_test, y_test)))"
   ]
  },
  {
   "cell_type": "code",
   "execution_count": 13,
   "id": "2ff7257a",
   "metadata": {},
   "outputs": [
    {
     "name": "stdout",
     "output_type": "stream",
     "text": [
      "Mean Square Error:  1.8326739674501105\n",
      "r2 score (training): 0.893\n",
      "r2 score (test): 0.907\n"
     ]
    }
   ],
   "source": [
    "# Elastic Net\n",
    "\n",
    "\n",
    "# Running Model\n",
    "elasticnetregressor =ElasticNet()\n",
    "elasticnetregressor.fit(X_train, y_train)\n",
    "\n",
    "# Predicting\n",
    "y4_pred = elasticnetregressor.predict(X_test)\n",
    "\n",
    "# Results\n",
    "print('Mean Square Error: ', metrics.mean_squared_error(y_test,y4_pred))\n",
    "print('r2 score (training): {:.3f}'.format(elasticnetregressor.score(X_train, y_train)))\n",
    "print('r2 score (test): {:.3f}'.format(elasticnetregressor.score(X_test, y_test)))"
   ]
  },
  {
   "cell_type": "code",
   "execution_count": 14,
   "id": "edd6e624",
   "metadata": {},
   "outputs": [
    {
     "name": "stdout",
     "output_type": "stream",
     "text": [
      "Mean Square Error:  3.117618663836202\n",
      "r2 score (training): 0.820\n",
      "r2 score (test): 0.841\n"
     ]
    }
   ],
   "source": [
    "# Support Vector Machine (Regression, rbf)\n",
    "\n",
    "\n",
    "# Running Model\n",
    "svcregressor = SVR(kernel='rbf')\n",
    "svcregressor.fit(X_train , y_train)\n",
    "\n",
    "# Predicting\n",
    "y7_pred = svcregressor.predict(X_test)\n",
    "\n",
    "# Results\n",
    "print('Mean Square Error: ', metrics.mean_squared_error(y_test,y7_pred))\n",
    "print('r2 score (training): {:.3f}'.format(svcregressor.score(X_train, y_train)))\n",
    "print('r2 score (test): {:.3f}'.format(svcregressor.score(X_test, y_test)))"
   ]
  },
  {
   "cell_type": "code",
   "execution_count": 15,
   "id": "f46c5f49",
   "metadata": {},
   "outputs": [
    {
     "name": "stdout",
     "output_type": "stream",
     "text": [
      "Mean Square Error:  40.45877137790387\n",
      "r2 score (training): 1.000\n",
      "r2 score (test): -1.058\n"
     ]
    }
   ],
   "source": [
    "# Gaussian Process Regressor (rbf)\n",
    "\n",
    "\n",
    "kernel = ConstantKernel(constant_value=1.0, constant_value_bounds=(0.0, 10)) * RBF(length_scale=1, length_scale_bounds=(0.0, 10)) #+ RBF(length_scale=2.0, length_scale_bounds=(0.0, 10.0))\n",
    "\n",
    "# Running Model\n",
    "GPRegressor = GaussianProcessRegressor(kernel=kernel)\n",
    "GPRegressor.fit(X_train, y_train) \n",
    "\n",
    "# Predicting\n",
    "y8_pred = GPRegressor.predict(X_test)\n",
    "\n",
    "# Results\n",
    "print('Mean Square Error: ', metrics.mean_squared_error(y_test,y8_pred))\n",
    "print('r2 score (training): {:.3f}'.format(GPRegressor.score(X_train, y_train)))\n",
    "print('r2 score (test): {:.3f}'.format(GPRegressor.score(X_test, y_test)))"
   ]
  },
  {
   "cell_type": "code",
   "execution_count": 16,
   "id": "08a37b5e",
   "metadata": {},
   "outputs": [
    {
     "name": "stdout",
     "output_type": "stream",
     "text": [
      "Mean Square Error:  1.1111666666666666\n",
      "r2 score (training): 1.000\n",
      "r2 score (test): 0.943\n"
     ]
    }
   ],
   "source": [
    "# Decision Tree\n",
    "\n",
    "\n",
    "# Running Model\n",
    "DTRegressor = DecisionTreeRegressor()\n",
    "DTRegressor.fit(X_train, y_train)\n",
    "    \n",
    "# Predicting\n",
    "y9_pred = DTRegressor.predict(X_test)\n",
    "\n",
    "# Results\n",
    "print('Mean Square Error: ', metrics.mean_squared_error(y_test,y9_pred))\n",
    "print('r2 score (training): {:.3f}'.format(DTRegressor.score(X_train, y_train)))\n",
    "print('r2 score (test): {:.3f}'.format(DTRegressor.score(X_test, y_test)))"
   ]
  },
  {
   "cell_type": "code",
   "execution_count": 17,
   "id": "26f205ab",
   "metadata": {},
   "outputs": [
    {
     "name": "stdout",
     "output_type": "stream",
     "text": [
      "Mean Square Error:  0.48102950245345905\n",
      "r2 score (training): 0.993\n",
      "r2 score (test): 0.976\n"
     ]
    }
   ],
   "source": [
    "# Random Forest (Max Depth = 25)\n",
    "\n",
    "\n",
    "# Running Model\n",
    "RFRegressor = RandomForestRegressor(max_depth= 5, random_state=0)\n",
    "RFRegressor.fit(X_train,y_train)\n",
    "\n",
    "# Predicting\n",
    "y10_pred = RFRegressor.predict(X_test)\n",
    "\n",
    "# Results\n",
    "print('Mean Square Error: ', metrics.mean_squared_error(y_test,y10_pred))\n",
    "print('r2 score (training): {:.3f}'.format(RFRegressor.score(X_train, y_train)))\n",
    "print('r2 score (test): {:.3f}'.format(RFRegressor.score(X_test, y_test)))"
   ]
  },
  {
   "cell_type": "markdown",
   "id": "188c27fb",
   "metadata": {},
   "source": [
    "## Question 3: Make a comparison of the prediction performance of the different algorithms implemented on Question 2."
   ]
  },
  {
   "cell_type": "markdown",
   "id": "71f9d925",
   "metadata": {},
   "source": [
    "Based off these pre-tuned models Random Forest performs the best and Gaussian Process Regression performs the worst. I am not sure why Random Forest works so well, my guess was overfitting but the r2 score for test data is also extremely high. This is a cause for research in the future. The linear regression models are ok and would work for this data set, especially if alpha is tuned. Overall most regression models would perform well on this dataset."
   ]
  },
  {
   "cell_type": "code",
   "execution_count": null,
   "id": "fc152846",
   "metadata": {},
   "outputs": [],
   "source": []
  }
 ],
 "metadata": {
  "kernelspec": {
   "display_name": "Python 3",
   "language": "python",
   "name": "python3"
  },
  "language_info": {
   "codemirror_mode": {
    "name": "ipython",
    "version": 3
   },
   "file_extension": ".py",
   "mimetype": "text/x-python",
   "name": "python",
   "nbconvert_exporter": "python",
   "pygments_lexer": "ipython3",
   "version": "3.8.8"
  }
 },
 "nbformat": 4,
 "nbformat_minor": 5
}
