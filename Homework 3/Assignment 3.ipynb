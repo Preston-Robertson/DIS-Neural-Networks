{
 "cells": [
  {
   "cell_type": "markdown",
   "metadata": {},
   "source": [
    "# Assignment 3"
   ]
  },
  {
   "cell_type": "markdown",
   "metadata": {
    "collapsed": true
   },
   "source": [
    "Congratulations! You've been contracted by Hyundai Heavy Industries to help them build a predictive model for some ships. [Hyundai Heavy Industries](http://www.hyundai.eu/en) is one of the world's largest ship manufacturing companies and builds cruise liners.\n",
    "\n",
    "You've been flown to their headquarters in Ulsan, South Korea to help them give accurate estimates of how many crew members a ship will require.\n",
    "\n",
    "They are currently building new ships for some customers and want you to create a model and use it to predict how many crew members the ships will need.\n",
    "\n",
    "Here is what the data looks like so far:\n",
    "\n",
    "    Description: Measurements of ship size, capacity, crew, and age for 158 cruise\n",
    "    ships.\n",
    "\n",
    "\n",
    "    Variables/Columns\n",
    "    Ship Name     1-20\n",
    "    Cruise Line   21-40\n",
    "    Age (as of 2013)   46-48\n",
    "    Tonnage (1000s of tons)   50-56\n",
    "    passengers (100s)   58-64\n",
    "    Length (100s of feet)  66-72\n",
    "    Cabins  (100s)   74-80\n",
    "    Passenger Density   82-88\n",
    "    Crew  (100s)   90-96\n",
    "    \n",
    "It is saved in a csv file for you called \"cruise_ship_info.csv\". Your job is to create a regression model that will help predict how many crew members will be needed for future ships. However, before you do so, please apply the following feature generation techniques:\n",
    "\n",
    "**(a)** Use StringIndexer to convery the *Cruise_line* categorical variable into numeric variables\n",
    "\n",
    "**(b)** Use VectorAssembler to create a feature vector using the following variables: 'Age',\n",
    "        'Tonnage', 'passengers', 'length', 'cabins', 'passenger_density', 'cruise_cat'. Name \n",
    "        the output of the variable \"features.\" Your final output will look something like the \n",
    "        following: **output.select(\"features\", \"crew\").show()**\n",
    "        \n",
    "**(c)** Use a model-based approach to determine which features should/shouldn't be selected"
   ]
  },
  {
   "cell_type": "markdown",
   "metadata": {},
   "source": [
    "# Loading Data"
   ]
  },
  {
   "cell_type": "code",
   "execution_count": 1,
   "metadata": {},
   "outputs": [
    {
     "data": {
      "text/plain": [
       "'C:\\\\Spark\\\\spark-3.1.2-bin-hadoop3.2'"
      ]
     },
     "execution_count": 1,
     "metadata": {},
     "output_type": "execute_result"
    }
   ],
   "source": [
    "#Loading Pyspark\n",
    "\n",
    "import findspark\n",
    "findspark.init()\n",
    "findspark.find()\n",
    "import pyspark\n",
    "findspark.find()\n"
   ]
  },
  {
   "cell_type": "code",
   "execution_count": 2,
   "metadata": {},
   "outputs": [],
   "source": [
    "#Loading Libraries\n",
    "\n",
    "import pandas as pd\n",
    "import numpy as np\n",
    "import matplotlib.pyplot as plt\n",
    "import seaborn as sns\n",
    "from pyspark.sql import SparkSession\n",
    "spark = SparkSession.builder.appName(\"PySpark_Basics\").getOrCreate()\n",
    "from pyspark.sql.functions import approxCountDistinct, countDistinct, count, when, isnan, col, isnull\n",
    "from pyspark.ml.feature import StringIndexer, VectorAssembler, PCA\n",
    "from pyspark.ml.linalg import Vectors\n",
    "from pyspark.ml.functions import vector_to_array\n",
    "from sklearn.linear_model import LinearRegression\n",
    "from sklearn.model_selection import train_test_split, cross_val_score ,cross_val_predict\n",
    "from sklearn.metrics import r2_score,mean_absolute_error,mean_squared_error\n",
    "from pyspark.ml.classification import DecisionTreeClassifier\n"
   ]
  },
  {
   "cell_type": "code",
   "execution_count": 3,
   "metadata": {
    "scrolled": true
   },
   "outputs": [
    {
     "name": "stdout",
     "output_type": "stream",
     "text": [
      "root\n",
      " |-- Ship_name: string (nullable = true)\n",
      " |-- Cruise_line: string (nullable = true)\n",
      " |-- Age: integer (nullable = true)\n",
      " |-- Tonnage: double (nullable = true)\n",
      " |-- passengers: double (nullable = true)\n",
      " |-- length: double (nullable = true)\n",
      " |-- cabins: double (nullable = true)\n",
      " |-- passenger_density: double (nullable = true)\n",
      " |-- crew: double (nullable = true)\n",
      "\n",
      "+-----------+-----------+---+------------------+----------+------+------+-----------------+----+\n",
      "|  Ship_name|Cruise_line|Age|           Tonnage|passengers|length|cabins|passenger_density|crew|\n",
      "+-----------+-----------+---+------------------+----------+------+------+-----------------+----+\n",
      "|    Journey|    Azamara|  6|30.276999999999997|      6.94|  5.94|  3.55|            42.64|3.55|\n",
      "|      Quest|    Azamara|  6|30.276999999999997|      6.94|  5.94|  3.55|            42.64|3.55|\n",
      "|Celebration|   Carnival| 26|            47.262|     14.86|  7.22|  7.43|             31.8| 6.7|\n",
      "|   Conquest|   Carnival| 11|             110.0|     29.74|  9.53| 14.88|            36.99|19.1|\n",
      "|    Destiny|   Carnival| 17|           101.353|     26.42|  8.92| 13.21|            38.36|10.0|\n",
      "|    Ecstasy|   Carnival| 22|            70.367|     20.52|  8.55|  10.2|            34.29| 9.2|\n",
      "|    Elation|   Carnival| 15|            70.367|     20.52|  8.55|  10.2|            34.29| 9.2|\n",
      "|    Fantasy|   Carnival| 23|            70.367|     20.56|  8.55| 10.22|            34.23| 9.2|\n",
      "|Fascination|   Carnival| 19|            70.367|     20.52|  8.55|  10.2|            34.29| 9.2|\n",
      "|    Freedom|   Carnival|  6|110.23899999999999|      37.0|  9.51| 14.87|            29.79|11.5|\n",
      "|      Glory|   Carnival| 10|             110.0|     29.74|  9.51| 14.87|            36.99|11.6|\n",
      "|    Holiday|   Carnival| 28|            46.052|     14.52|  7.27|  7.26|            31.72| 6.6|\n",
      "|Imagination|   Carnival| 18|            70.367|     20.52|  8.55|  10.2|            34.29| 9.2|\n",
      "|Inspiration|   Carnival| 17|            70.367|     20.52|  8.55|  10.2|            34.29| 9.2|\n",
      "|     Legend|   Carnival| 11|              86.0|     21.24|  9.63| 10.62|            40.49| 9.3|\n",
      "|   Liberty*|   Carnival|  8|             110.0|     29.74|  9.51| 14.87|            36.99|11.6|\n",
      "|    Miracle|   Carnival|  9|              88.5|     21.24|  9.63| 10.62|            41.67|10.3|\n",
      "|   Paradise|   Carnival| 15|            70.367|     20.52|  8.55|  10.2|            34.29| 9.2|\n",
      "|      Pride|   Carnival| 12|              88.5|     21.24|  9.63| 11.62|            41.67| 9.3|\n",
      "|  Sensation|   Carnival| 20|            70.367|     20.52|  8.55|  10.2|            34.29| 9.2|\n",
      "+-----------+-----------+---+------------------+----------+------+------+-----------------+----+\n",
      "only showing top 20 rows\n",
      "\n"
     ]
    }
   ],
   "source": [
    "#Loading Data\n",
    "\n",
    "file_location = \"cruise_ship_info.csv\"\n",
    "file_type = \"csv\"\n",
    "infer_schema = \"true\"\n",
    "first_row_is_header = \"true\"\n",
    "delimiter = \",\"\n",
    "\n",
    "df = spark.read.format(file_type)\\\n",
    ".option(\"InferSchema\", infer_schema)\\\n",
    ".option(\"header\", first_row_is_header)\\\n",
    ".option(\"sep\", delimiter)\\\n",
    ".load(file_location)\n",
    "\n",
    "df.printSchema()\n",
    "\n",
    "df.na.drop(subset=[\"crew\"]).show()"
   ]
  },
  {
   "cell_type": "markdown",
   "metadata": {},
   "source": [
    "# Feature Engineering"
   ]
  },
  {
   "cell_type": "code",
   "execution_count": 4,
   "metadata": {},
   "outputs": [
    {
     "name": "stdout",
     "output_type": "stream",
     "text": [
      "+-----------+-----------+---+------------------+----------+------+------+-----------------+----+-------------------+\n",
      "|  Ship_name|Cruise_line|Age|           Tonnage|passengers|length|cabins|passenger_density|crew|Cruise_line_Indexed|\n",
      "+-----------+-----------+---+------------------+----------+------+------+-----------------+----+-------------------+\n",
      "|    Journey|    Azamara|  6|30.276999999999997|      6.94|  5.94|  3.55|            42.64|3.55|               16.0|\n",
      "|      Quest|    Azamara|  6|30.276999999999997|      6.94|  5.94|  3.55|            42.64|3.55|               16.0|\n",
      "|Celebration|   Carnival| 26|            47.262|     14.86|  7.22|  7.43|             31.8| 6.7|                1.0|\n",
      "|   Conquest|   Carnival| 11|             110.0|     29.74|  9.53| 14.88|            36.99|19.1|                1.0|\n",
      "|    Destiny|   Carnival| 17|           101.353|     26.42|  8.92| 13.21|            38.36|10.0|                1.0|\n",
      "+-----------+-----------+---+------------------+----------+------+------+-----------------+----+-------------------+\n",
      "only showing top 5 rows\n",
      "\n"
     ]
    }
   ],
   "source": [
    "# Converting String to Numerical Values\n",
    "\n",
    "indexer = StringIndexer(inputCol=\"Cruise_line\", outputCol=\"Cruise_line_Indexed\")\n",
    "indexed = indexer.fit(df).transform(df)\n",
    "\n",
    "\n",
    "indexed.show(5)"
   ]
  },
  {
   "cell_type": "code",
   "execution_count": 5,
   "metadata": {
    "scrolled": true
   },
   "outputs": [
    {
     "name": "stdout",
     "output_type": "stream",
     "text": [
      "+--------------------------------------------------+----+\n",
      "|features                                          |crew|\n",
      "+--------------------------------------------------+----+\n",
      "|[6.0,30.276999999999997,6.94,5.94,3.55,42.64,16.0]|3.55|\n",
      "|[6.0,30.276999999999997,6.94,5.94,3.55,42.64,16.0]|3.55|\n",
      "|[26.0,47.262,14.86,7.22,7.43,31.8,1.0]            |6.7 |\n",
      "|[11.0,110.0,29.74,9.53,14.88,36.99,1.0]           |19.1|\n",
      "|[17.0,101.353,26.42,8.92,13.21,38.36,1.0]         |10.0|\n",
      "|[22.0,70.367,20.52,8.55,10.2,34.29,1.0]           |9.2 |\n",
      "|[15.0,70.367,20.52,8.55,10.2,34.29,1.0]           |9.2 |\n",
      "|[23.0,70.367,20.56,8.55,10.22,34.23,1.0]          |9.2 |\n",
      "|[19.0,70.367,20.52,8.55,10.2,34.29,1.0]           |9.2 |\n",
      "|[6.0,110.23899999999999,37.0,9.51,14.87,29.79,1.0]|11.5|\n",
      "|[10.0,110.0,29.74,9.51,14.87,36.99,1.0]           |11.6|\n",
      "|[28.0,46.052,14.52,7.27,7.26,31.72,1.0]           |6.6 |\n",
      "|[18.0,70.367,20.52,8.55,10.2,34.29,1.0]           |9.2 |\n",
      "|[17.0,70.367,20.52,8.55,10.2,34.29,1.0]           |9.2 |\n",
      "|[11.0,86.0,21.24,9.63,10.62,40.49,1.0]            |9.3 |\n",
      "|[8.0,110.0,29.74,9.51,14.87,36.99,1.0]            |11.6|\n",
      "|[9.0,88.5,21.24,9.63,10.62,41.67,1.0]             |10.3|\n",
      "|[15.0,70.367,20.52,8.55,10.2,34.29,1.0]           |9.2 |\n",
      "|[12.0,88.5,21.24,9.63,11.62,41.67,1.0]            |9.3 |\n",
      "|[20.0,70.367,20.52,8.55,10.2,34.29,1.0]           |9.2 |\n",
      "+--------------------------------------------------+----+\n",
      "only showing top 20 rows\n",
      "\n"
     ]
    }
   ],
   "source": [
    "# Assembler\n",
    "\n",
    "assembler = VectorAssembler(\n",
    "    inputCols=['Age', 'Tonnage', 'passengers', 'length', 'cabins', 'passenger_density', 'Cruise_line_Indexed'],\n",
    "    outputCol=\"features\")\n",
    "\n",
    "output = assembler.transform(indexed)\n",
    "output.select(\"features\", \"crew\").show(truncate=False)\n",
    "#output = output.select(\"features\", \"crew\")"
   ]
  },
  {
   "cell_type": "code",
   "execution_count": 6,
   "metadata": {},
   "outputs": [
    {
     "name": "stdout",
     "output_type": "stream",
     "text": [
      "                                                vals  idx                 name\n",
      "0  [Royal_Caribbean, Carnival, Princess, Holland_...    6  Cruise_line_Indexed\n"
     ]
    },
    {
     "data": {
      "text/html": [
       "<div>\n",
       "<style scoped>\n",
       "    .dataframe tbody tr th:only-of-type {\n",
       "        vertical-align: middle;\n",
       "    }\n",
       "\n",
       "    .dataframe tbody tr th {\n",
       "        vertical-align: top;\n",
       "    }\n",
       "\n",
       "    .dataframe thead th {\n",
       "        text-align: right;\n",
       "    }\n",
       "</style>\n",
       "<table border=\"1\" class=\"dataframe\">\n",
       "  <thead>\n",
       "    <tr style=\"text-align: right;\">\n",
       "      <th></th>\n",
       "      <th>vals</th>\n",
       "      <th>idx</th>\n",
       "      <th>name</th>\n",
       "      <th>Decision_Tree</th>\n",
       "    </tr>\n",
       "  </thead>\n",
       "  <tbody>\n",
       "    <tr>\n",
       "      <th>0</th>\n",
       "      <td>[Royal_Caribbean, Carnival, Princess, Holland_...</td>\n",
       "      <td>6</td>\n",
       "      <td>Cruise_line_Indexed</td>\n",
       "      <td>0.141808</td>\n",
       "    </tr>\n",
       "  </tbody>\n",
       "</table>\n",
       "</div>"
      ],
      "text/plain": [
       "                                                vals  idx  \\\n",
       "0  [Royal_Caribbean, Carnival, Princess, Holland_...    6   \n",
       "\n",
       "                  name  Decision_Tree  \n",
       "0  Cruise_line_Indexed       0.141808  "
      ]
     },
     "execution_count": 6,
     "metadata": {},
     "output_type": "execute_result"
    }
   ],
   "source": [
    "from pyspark.ml.classification import DecisionTreeClassifier\n",
    "import pyspark.sql.functions as func\n",
    "\n",
    "\n",
    "for k, v in output.schema[\"features\"].metadata[\"ml_attr\"][\"attrs\"].items():\n",
    "    features_df = pd.DataFrame(v)\n",
    "\n",
    "print(features_df)\n",
    "\n",
    "output = output.withColumn(\"crew\", func.round(df[\"crew\"]).cast('integer'))\n",
    "\n",
    "\n",
    "dt = DecisionTreeClassifier(featuresCol=\"features\", labelCol= 'crew')\n",
    "dt_model = dt.fit(output)\n",
    "dt_model.featureImportances\n",
    "\n",
    "dt_output = dt_model.featureImportances\n",
    "features_df['Decision_Tree'] = features_df['idx'].apply(lambda x: dt_output[x] if x in dt_output.indices  else 0)\n",
    "\n",
    "features_df.sort_values(\"Decision_Tree\", ascending=False, inplace=True)\n",
    "\n",
    "features_df"
   ]
  },
  {
   "cell_type": "code",
   "execution_count": 7,
   "metadata": {
    "scrolled": true
   },
   "outputs": [
    {
     "name": "stdout",
     "output_type": "stream",
     "text": [
      "+---------------------------------------------------------+----+\n",
      "|PCAfeatures                                              |crew|\n",
      "+---------------------------------------------------------+----+\n",
      "|[28.90696689209417,37.662466754564434,24.200940329862544]|4   |\n",
      "|[28.90696689209417,37.662466754564434,24.200940329862544]|4   |\n",
      "|[46.16719592570902,16.643252999294056,39.664719487674994]|7   |\n",
      "|[112.2379125870115,25.402813490740897,35.41568793937]    |19  |\n",
      "|[102.24963951777274,24.983148264782145,40.45721128374385]|10  |\n",
      "|[70.37482833639419,19.7773431120852,39.67143902891689]   |9   |\n",
      "|[71.21630037265649,22.283002603021608,33.20319746753755] |9   |\n",
      "|[70.26702247257334,19.355294765619043,40.57129392581935] |9   |\n",
      "|[70.73545920907803,20.851197179629374,36.899335502611464]|9   |\n",
      "|[114.87257321266344,19.1422815488352,27.69404085261306]  |12  |\n",
      "|[112.35617864186317,25.761901533596003,34.49173927942568]|12  |\n",
      "|[44.67562241141424,15.894295631606047,41.34157153832137] |7   |\n",
      "|[70.85566949997265,21.209148535477432,35.975300993842986]|9   |\n",
      "|[70.97587979086727,21.56709989132549,35.05126648507451]  |9   |\n",
      "|[86.80707906020459,29.7081729671821,33.844291332506145]  |9   |\n",
      "|[112.59659922365239,26.47780424529212,32.64367026188872] |12  |\n",
      "|[89.41956055441281,31.58316867290908,32.76321387485756]  |10  |\n",
      "|[71.21630037265649,22.283002603021608,33.20319746753755] |9   |\n",
      "|[89.16840983335246,30.412275333014314,35.51039109686891] |9   |\n",
      "|[70.61524891818341,20.49324582378132,37.82337001137994]  |9   |\n",
      "+---------------------------------------------------------+----+\n",
      "only showing top 20 rows\n",
      "\n"
     ]
    }
   ],
   "source": [
    "# Model-based feature extraction\n",
    "\n",
    "pca = PCA(k=3, inputCol=\"features\", outputCol=\"PCAfeatures\")\n",
    "model = pca.fit(output)\n",
    "\n",
    "result = model.transform(output).select(\"PCAfeatures\",\"crew\")\n",
    "result.show(truncate=False)\n"
   ]
  },
  {
   "cell_type": "markdown",
   "metadata": {},
   "source": [
    "# Formating Data"
   ]
  },
  {
   "cell_type": "code",
   "execution_count": 8,
   "metadata": {},
   "outputs": [
    {
     "name": "stdout",
     "output_type": "stream",
     "text": [
      "+----+------------------+------------------+------------------+\n",
      "|crew|    PCAfeatures[0]|    PCAfeatures[1]|    PCAfeatures[2]|\n",
      "+----+------------------+------------------+------------------+\n",
      "|   4| 28.90696689209417|37.662466754564434|24.200940329862544|\n",
      "|   4| 28.90696689209417|37.662466754564434|24.200940329862544|\n",
      "|   7| 46.16719592570902|16.643252999294056|39.664719487674994|\n",
      "|  19| 112.2379125870115|25.402813490740897|    35.41568793937|\n",
      "|  10|102.24963951777274|24.983148264782145| 40.45721128374385|\n",
      "+----+------------------+------------------+------------------+\n",
      "only showing top 5 rows\n",
      "\n"
     ]
    }
   ],
   "source": [
    "# Splitting Vectorized Column into Columns\n",
    "\n",
    "final = result.withColumn(\"PCAfeatures\", vector_to_array(\"PCAfeatures\")).select([\"crew\"] + [col(\"PCAfeatures\")[i] for i in range(3)])\n",
    "final.show(5)\n"
   ]
  },
  {
   "cell_type": "code",
   "execution_count": 9,
   "metadata": {},
   "outputs": [
    {
     "data": {
      "text/html": [
       "<div>\n",
       "<style scoped>\n",
       "    .dataframe tbody tr th:only-of-type {\n",
       "        vertical-align: middle;\n",
       "    }\n",
       "\n",
       "    .dataframe tbody tr th {\n",
       "        vertical-align: top;\n",
       "    }\n",
       "\n",
       "    .dataframe thead th {\n",
       "        text-align: right;\n",
       "    }\n",
       "</style>\n",
       "<table border=\"1\" class=\"dataframe\">\n",
       "  <thead>\n",
       "    <tr style=\"text-align: right;\">\n",
       "      <th></th>\n",
       "      <th>crew</th>\n",
       "      <th>PCAfeatures[0]</th>\n",
       "      <th>PCAfeatures[1]</th>\n",
       "      <th>PCAfeatures[2]</th>\n",
       "    </tr>\n",
       "  </thead>\n",
       "  <tbody>\n",
       "    <tr>\n",
       "      <th>0</th>\n",
       "      <td>4</td>\n",
       "      <td>28.906967</td>\n",
       "      <td>37.662467</td>\n",
       "      <td>24.200940</td>\n",
       "    </tr>\n",
       "    <tr>\n",
       "      <th>1</th>\n",
       "      <td>4</td>\n",
       "      <td>28.906967</td>\n",
       "      <td>37.662467</td>\n",
       "      <td>24.200940</td>\n",
       "    </tr>\n",
       "    <tr>\n",
       "      <th>2</th>\n",
       "      <td>7</td>\n",
       "      <td>46.167196</td>\n",
       "      <td>16.643253</td>\n",
       "      <td>39.664719</td>\n",
       "    </tr>\n",
       "    <tr>\n",
       "      <th>3</th>\n",
       "      <td>19</td>\n",
       "      <td>112.237913</td>\n",
       "      <td>25.402813</td>\n",
       "      <td>35.415688</td>\n",
       "    </tr>\n",
       "    <tr>\n",
       "      <th>4</th>\n",
       "      <td>10</td>\n",
       "      <td>102.249640</td>\n",
       "      <td>24.983148</td>\n",
       "      <td>40.457211</td>\n",
       "    </tr>\n",
       "  </tbody>\n",
       "</table>\n",
       "</div>"
      ],
      "text/plain": [
       "   crew  PCAfeatures[0]  PCAfeatures[1]  PCAfeatures[2]\n",
       "0     4       28.906967       37.662467       24.200940\n",
       "1     4       28.906967       37.662467       24.200940\n",
       "2     7       46.167196       16.643253       39.664719\n",
       "3    19      112.237913       25.402813       35.415688\n",
       "4    10      102.249640       24.983148       40.457211"
      ]
     },
     "execution_count": 9,
     "metadata": {},
     "output_type": "execute_result"
    }
   ],
   "source": [
    "# Converting to Pandas\n",
    "\n",
    "df_p = final.toPandas()\n",
    "df_p.head(5)\n"
   ]
  },
  {
   "cell_type": "markdown",
   "metadata": {},
   "source": [
    "# Multiple Linear Regression Analysis"
   ]
  },
  {
   "cell_type": "code",
   "execution_count": 10,
   "metadata": {
    "scrolled": true
   },
   "outputs": [
    {
     "name": "stdout",
     "output_type": "stream",
     "text": [
      "Multiple Linear Regression Training Accuracy:  0.8783603919150549\n",
      "Multiple Linear Regression Test Accuracy:  0.899192461530934\n",
      "r2 value:  0.899192461530934\n",
      "MSE:  1.0139820763978313\n"
     ]
    }
   ],
   "source": [
    "# Defining X and Y #########################################################################################\n",
    "\n",
    "features_X = ['PCAfeatures[0]','PCAfeatures[1]','PCAfeatures[2]']\n",
    "X = df_p[features_X].values\n",
    "\n",
    "predictor = ['crew']\n",
    "Y = df_p[predictor].values\n",
    "\n",
    "X_train, X_test, Y_train, Y_test = train_test_split(X,Y, test_size=0.2, random_state=123)\n",
    "\n",
    "\n",
    "\n",
    "# Fitting and Predicting Multiple Linear Regression Model##################################################\n",
    "\n",
    "reg = LinearRegression()\n",
    "reg.fit(X_train, Y_train)\n",
    "\n",
    "pred = reg.predict(X_test)\n",
    "\n",
    "\n",
    "\n",
    "# Results #################################################################################################\n",
    "\n",
    "MLR_Training = reg.score(X_train, Y_train)\n",
    "print('Multiple Linear Regression Training Accuracy: ', MLR_Training)\n",
    "\n",
    "MLR_Testing = reg.score(X_test, Y_test)\n",
    "print('Multiple Linear Regression Test Accuracy: ', MLR_Testing)\n",
    "\n",
    "MLR_r2 = r2_score(Y_test, pred)\n",
    "print('r2 value: ', MLR_r2)\n",
    "\n",
    "MLR_MSE = mean_squared_error(Y_test, pred)\n",
    "print('MSE: ', MLR_MSE)"
   ]
  },
  {
   "cell_type": "code",
   "execution_count": null,
   "metadata": {},
   "outputs": [],
   "source": []
  },
  {
   "cell_type": "code",
   "execution_count": null,
   "metadata": {},
   "outputs": [],
   "source": []
  },
  {
   "cell_type": "code",
   "execution_count": 11,
   "metadata": {},
   "outputs": [],
   "source": [
    "spark.stop()"
   ]
  }
 ],
 "metadata": {
  "anaconda-cloud": {},
  "kernelspec": {
   "display_name": "Python 3",
   "language": "python",
   "name": "python3"
  },
  "language_info": {
   "codemirror_mode": {
    "name": "ipython",
    "version": 3
   },
   "file_extension": ".py",
   "mimetype": "text/x-python",
   "name": "python",
   "nbconvert_exporter": "python",
   "pygments_lexer": "ipython3",
   "version": "3.8.8"
  }
 },
 "nbformat": 4,
 "nbformat_minor": 1
}
